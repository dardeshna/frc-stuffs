{
  "nbformat": 4,
  "nbformat_minor": 0,
  "metadata": {
    "colab": {
      "provenance": [],
      "authorship_tag": "ABX9TyNvTccxfdhJj0FEYq1bPlaD",
      "include_colab_link": true
    },
    "kernelspec": {
      "name": "python3",
      "display_name": "Python 3"
    },
    "language_info": {
      "name": "python"
    }
  },
  "cells": [
    {
      "cell_type": "markdown",
      "metadata": {
        "id": "view-in-github",
        "colab_type": "text"
      },
      "source": [
        "<a href=\"https://colab.research.google.com/github/dardeshna/frc-stuffs/blob/master/linalg/opr_2022cabl_blank.ipynb\" target=\"_parent\"><img src=\"https://colab.research.google.com/assets/colab-badge.svg\" alt=\"Open In Colab\"/></a>"
      ]
    },
    {
      "cell_type": "markdown",
      "source": [
        "# Offensive Power Rating (OPR)\n",
        "\n",
        "Offensive Power Rating (OPR) is a metric to estimate a team's average point contribution to their alliance. We can calculate OPR using the match scores from an event."
      ],
      "metadata": {
        "id": "_Cij-9wmF4p0"
      }
    },
    {
      "cell_type": "code",
      "execution_count": null,
      "metadata": {
        "id": "4DHNY4pXLDmf"
      },
      "outputs": [],
      "source": [
        "# setup\n",
        "import numpy as np\n",
        "import pandas as pd\n",
        "import requests\n",
        "import json"
      ]
    },
    {
      "cell_type": "markdown",
      "source": [
        "## Pulling data from TBA\n",
        "\n",
        "The first step is to pull event data from [The Blue Alliance](https://www.thebluealliance.com/). We can use their Read API which is documented here: https://www.thebluealliance.com/apidocs/v3\n",
        "\n",
        "To calculate OPR we will need a list of teams and scores for each match. We can also pull OPR from TBA for comparison."
      ],
      "metadata": {
        "id": "MXgzmcM-HBU-"
      }
    },
    {
      "cell_type": "code",
      "source": [
        "# generate a TBA auth key at https://www.thebluealliance.com/account\n",
        "auth_key = ''\n",
        "\n",
        "event = '2022cabl' # beach blitz 2022\n",
        "\n",
        "# get a list of teams\n",
        "\n",
        "# get match data\n",
        "\n",
        "# get opr calculated by TBA\n"
      ],
      "metadata": {
        "id": "5uyqnlRgHAud"
      },
      "execution_count": null,
      "outputs": []
    },
    {
      "cell_type": "markdown",
      "source": [
        "## Processing the data\n",
        "\n",
        "Next we need to process the responses obtained by the TBA API. We can convert them to nested python lists and dictionaries using the `.json()` function. OPR is traditionally calculated using only quals matches, so we also want to filter by match type."
      ],
      "metadata": {
        "id": "XJxDe1cSKH-W"
      }
    },
    {
      "cell_type": "code",
      "source": [
        "# get a list of team names\n",
        "\n",
        "# get a list of dictionaries with data for each match\n",
        "\n",
        "# print the first 10 teams\n",
        "\n",
        "# print qm1 data\n"
      ],
      "metadata": {
        "id": "vl0hIn0bJcXL"
      },
      "execution_count": null,
      "outputs": []
    },
    {
      "cell_type": "markdown",
      "source": [
        "## Calculating OPR\n",
        "OPR just solves a system of equations to estimate each team's average point contribution. Specifically, for match $i$ we have the following equations:\n",
        "\n",
        "\\begin{gather*}\n",
        "x_{{r_i}_a}+x_{{r_i}_b}+x_{{r_i}_c}=s_{r_i} \\\\\n",
        "x_{{b_i}_a}+x_{{b_i}_b}+x_{{b_i}_c}=s_{b_i} \\\\\n",
        "\\end{gather*}\n",
        "\n",
        "Here, $x_{{r_i}_a}$ represents the OPR of the first team on the red alliance in match $i$. Similarly, $s_{r_i}$ is the red alliance's score in match $i$.\n",
        "\n",
        "To be clear, these symbols are just placeholders. If teams 8, 254, and 1678 scored 133 points for the red alliance while 971, 973, and 1323 scored 128 points for blue, we would have:\n",
        "\n",
        "\\begin{gather*}\n",
        "x_{8}+x_{254}+x_{1678}=133 \\\\\n",
        "x_{971}+x_{973}+x_{1323}=128\n",
        "\\end{gather*}\n",
        "\n",
        "For $m$ matches, we can stack the two equations from each match to get a total of $2m$ equations:\n",
        "\n",
        "\\begin{gather*}\n",
        "x_{{r_1}_a}+x_{{r_1}_b}+x_{{r_1}_c}=s_{r_1} \\\\\n",
        "x_{{b_1}_a}+x_{{b_1}_b}+x_{{b_1}_c}=s_{b_1} \\\\\n",
        "x_{{r_2}_a}+x_{{r_2}_b}+x_{{r_2}_c}=s_{r_2} \\\\\n",
        "x_{{b_2}_a}+x_{{b_2}_b}+x_{{b_2}_c}=s_{b_2} \\\\\n",
        "\\vdots \\\\\n",
        "x_{{r_m}_a}+x_{{r_m}_b}+x_{{r_m}_c}=s_{r_m} \\\\\n",
        "x_{{b_m}_a}+x_{{b_m}_b}+x_{{b_m}_c}=s_{b_m} \\\\\n",
        "\\end{gather*}\n",
        "\n",
        "These equations can be written in matrix form:\n",
        "\n",
        "\\begin{gather*}\n",
        "\\begin{bmatrix}\n",
        "x_{{r_1}_a}+x_{{r_1}_b}+x_{{r_1}_c} \\\\\n",
        "x_{{b_1}_a}+x_{{b_1}_b}+x_{{b_1}_c} \\\\\n",
        "x_{{r_2}_a}+x_{{r_2}_b}+x_{{r_2}_c} \\\\\n",
        "x_{{b_2}_a}+x_{{b_2}_b}+x_{{b_2}_c} \\\\\n",
        "\\vdots \\\\\n",
        "x_{{r_m}_a}+x_{{r_m}_b}+x_{{r_m}_c} \\\\\n",
        "x_{{b_m}_a}+x_{{b_m}_b}+x_{{b_m}_c}\n",
        "\\end{bmatrix}\n",
        "= \\begin{bmatrix} s_{r_1} \\\\ s_{b_1} \\\\ s_{r_2} \\\\ s_{b_2} \\\\ \\vdots \\\\ s_{r_m} \\\\ s_{b_m} \\end{bmatrix}\n",
        "\\end{gather*}\n",
        "\n",
        "If we have $n$ teams at the event, we can break up the left-hand side into the product of $\\mathbf{A} \\in \\mathbb{R}^{2m \\times n}$ and $\\mathbf{x} \\in \\mathbb{R}^{n}$. The entries of $\\mathbf{x}$ contains the OPRs for each team, while each row of $\\mathbf{A}$ is zero except for the columns corresponding to the teams on that alliance. After doing so, we end up with something like this:\n",
        "\n",
        "\\begin{gather*}\n",
        "\\mathbf{Ax} =\n",
        "\\begin{bmatrix}\n",
        "1 & 0 & 0 & 1 & 0 & 1 & \\dots & 0 \\\\\n",
        "0 & 1 & 1 & 0 & 1 & 1 & \\dots & 0 \\\\\n",
        "0 & 0 & 0 & 0 & 0 & 0 & \\dots & 0 \\\\\n",
        "0 & 0 & 0 & 0 & 0 & 0 & \\dots & 0 \\\\\n",
        "\\vdots & \\vdots & \\vdots & \\vdots & \\vdots & \\vdots & \\ddots & \\vdots \\\\\n",
        "0 & 0 & 0 & 0 & 0 & 0 & \\dots & 0 \\\\\n",
        "0 & 0 & 0 & 0 & 0 & 0 & \\dots & 0\n",
        "\\end{bmatrix}\n",
        "\\begin{bmatrix}\n",
        "x_1 \\\\ x_2 \\\\ x_3 \\\\ x_4 \\\\ x_5 \\\\ x_6 \\\\ \\vdots \\\\x_n \\\\\n",
        "\\end{bmatrix}\n",
        "= \\begin{bmatrix} s_{r_1} \\\\ s_{b_1} \\\\ s_{r_2} \\\\ s_{b_2} \\\\ \\vdots \\\\ s_{r_m} \\\\ s_{b_m} \\end{bmatrix}\n",
        "= \\mathbf{b}\n",
        "\\end{gather*}\n",
        "\n",
        "At a typical FRC event, $2m > n$ so we have more equations than unknowns and $\\mathbf{A}$ is a tall matrix. This means that while there is no exact solution for $\\mathbf{x}$, we can use `np.linalg.lstsq(A, b)` to solve for an $\\mathbf{x}$ that minimizes the error $\\| \\mathbf{Ax}-\\mathbf{b} \\|$.\n"
      ],
      "metadata": {
        "id": "5TacL_DHNGJR"
      }
    },
    {
      "cell_type": "code",
      "source": [
        "# initialize matrices\n",
        "\n",
        "# iterate over matches\n",
        "\n",
        "    # fill in equation for red alliance (row 2*i)\n",
        "    \n",
        "    # fill in equation for blue alliance (row 2*i+1)\n",
        "\n",
        "# solve for OPRs"
      ],
      "metadata": {
        "id": "4EdBDIE4V3km"
      },
      "execution_count": null,
      "outputs": []
    },
    {
      "cell_type": "markdown",
      "source": [
        "## Comparison to TBA OPR\n",
        "\n",
        "Finally, we can sort teams by OPR and compare our values to TBA's values!"
      ],
      "metadata": {
        "id": "Z7o5gTFd3hTC"
      }
    },
    {
      "cell_type": "code",
      "source": [
        "# get dictionary of OPRs from TBA\n",
        "\n",
        "# build a new dictionary with both our OPR and TBA's OPR\n",
        "\n",
        "# convert dict to a pandas dataframe and sort by our OPR"
      ],
      "metadata": {
        "id": "TDud4bmxV3nt"
      },
      "execution_count": null,
      "outputs": []
    }
  ]
}