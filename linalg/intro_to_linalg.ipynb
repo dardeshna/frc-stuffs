{
  "nbformat": 4,
  "nbformat_minor": 0,
  "metadata": {
    "colab": {
      "provenance": [],
      "authorship_tag": "ABX9TyMCr5lCrJuAJVUOez4D2R5p",
      "include_colab_link": true
    },
    "kernelspec": {
      "name": "python3",
      "display_name": "Python 3"
    },
    "language_info": {
      "name": "python"
    }
  },
  "cells": [
    {
      "cell_type": "markdown",
      "metadata": {
        "id": "view-in-github",
        "colab_type": "text"
      },
      "source": [
        "<a href=\"https://colab.research.google.com/github/dardeshna/frc-stuffs/blob/master/linalg/intro_to_linalg.ipynb\" target=\"_parent\"><img src=\"https://colab.research.google.com/assets/colab-badge.svg\" alt=\"Open In Colab\"/></a>"
      ]
    },
    {
      "cell_type": "markdown",
      "source": [
        "# Intro to Linear Algebra\n",
        "\n",
        "This notebook provides an introduction to the following linear algebra concepts:\n",
        "\n",
        "* Vectors\n",
        "* Matrices\n",
        "* Matrix multiplication\n",
        "* Matrix inverse and determinant\n",
        "* Matrix equations"
      ],
      "metadata": {
        "id": "TlLSgya3NpEp"
      }
    },
    {
      "cell_type": "code",
      "source": [
        "# setup\n",
        "import numpy as np\n",
        "import matplotlib.pyplot as plt\n",
        "\n",
        "np.random.seed(0)"
      ],
      "metadata": {
        "id": "_FuLvWdmSfkx"
      },
      "execution_count": null,
      "outputs": []
    },
    {
      "cell_type": "markdown",
      "source": [
        "## Vectors\n",
        "\n",
        "A vector is a 1-dimensional ordered list of numbers. For a vector $\\mathbf{x}$ with $n$ elements, we would say $\\mathbf{x} \\in \\mathbb{R}^{n}$. This means $\\mathbf{x}$ is a member of $\\mathbb{R}^{n}$, and we define $\\mathbb{R}^{n}$ to be the set of all vectors with $n$ elements.\n",
        "\n",
        "For example, here is a column vector with $3$ elements:\n",
        "\n",
        "\\begin{gather*}\n",
        "\\mathbf{x}=\\begin{bmatrix} 1 \\\\ 2 \\\\ 3 \\end{bmatrix}\n",
        "\\end{gather*}\n",
        "\n",
        "Similarly, here is a row vector with $3$ elements:\n",
        "\n",
        "\\begin{gather*}\n",
        "\\mathbf{y}=\\begin{bmatrix} 4 & 5 & 6 \\end{bmatrix}\n",
        "\\end{gather*}\n",
        "\n",
        "We can convert between row and column vectors using the transpose operator:\n",
        "\n",
        "\\begin{gather*}\n",
        "\\mathbf{x}^T=\\begin{bmatrix} 1 & 2 & 3 \\end{bmatrix} \\\\\n",
        "\\mathbf{y}^T=\\begin{bmatrix} 4 \\\\ 5 \\\\ 6 \\end{bmatrix}\n",
        "\\end{gather*}\n",
        "\n",
        "In linear algebra, vectors are typically written as column vectors. However, when we work with vectors in code they will always print as row vectors.\n"
      ],
      "metadata": {
        "id": "id2hul08SbJ8"
      }
    },
    {
      "cell_type": "code",
      "execution_count": null,
      "metadata": {
        "colab": {
          "base_uri": "https://localhost:8080/"
        },
        "id": "khsxs9pINnKr",
        "outputId": "f2d8b9c7-f8f0-4687-c8e7-4bd93d3c8bd7"
      },
      "outputs": [
        {
          "output_type": "stream",
          "name": "stdout",
          "text": [
            "[1 2 3]\n",
            "[1 2 3]\n"
          ]
        }
      ],
      "source": [
        "x = np.array([1,2,3])\n",
        "print(x)\n",
        "print(x.T)"
      ]
    },
    {
      "cell_type": "markdown",
      "source": [
        "Note: We can technically construct column vectors as follows but the functions we will use can deduce row versus column based on context. To keep things simple we will always write vectors as row vectors in code."
      ],
      "metadata": {
        "id": "lsfZY0vxTBfk"
      }
    },
    {
      "cell_type": "code",
      "source": [
        "x = np.array([[1,2,3]]) # note the extra brackets\n",
        "print(x)\n",
        "print(x.T)"
      ],
      "metadata": {
        "colab": {
          "base_uri": "https://localhost:8080/"
        },
        "id": "H4pVuShYeR1u",
        "outputId": "fac02fb5-18cd-4efb-a9d0-39ed42d1edd5"
      },
      "execution_count": null,
      "outputs": [
        {
          "output_type": "stream",
          "name": "stdout",
          "text": [
            "[[1 2 3]]\n",
            "[[1]\n",
            " [2]\n",
            " [3]]\n"
          ]
        }
      ]
    },
    {
      "cell_type": "markdown",
      "source": [
        "### Indexing\n",
        "\n",
        "The $i$-th element of a vector is generally denoted as $x_i$. Both equations and code will be zero-indexed to remain consistent. That means that in the example above, $x_0=1$, $x_1=2$ and $x_2=3$. **Note that the last element is $x_{n-1}$, not $x_n$.**\n",
        "\n",
        "Indexing can be performed in Python using bracket notation `x[i]`."
      ],
      "metadata": {
        "id": "etqz7omYVL5E"
      }
    },
    {
      "cell_type": "code",
      "source": [
        "print(x[0])"
      ],
      "metadata": {
        "colab": {
          "base_uri": "https://localhost:8080/"
        },
        "id": "Z-CvZhZ7WMyz",
        "outputId": "413637f3-9160-4af9-db4d-373447654121"
      },
      "execution_count": null,
      "outputs": [
        {
          "output_type": "stream",
          "name": "stdout",
          "text": [
            "[1 2 3]\n"
          ]
        }
      ]
    },
    {
      "cell_type": "markdown",
      "source": [
        "### Summation\n",
        "\n",
        "We denote the sum of the elements of $\\mathbf{x} \\in \\mathbb{R}^{n}$ as follows:\n",
        "\n",
        "\\begin{gather*}\n",
        "\\sum_{i=0}^{n-1} x_i\n",
        "\\end{gather*}\n",
        "\n",
        "This means we are summing elements $x_0, x_1, \\ldots, x_{n-1} $.\n",
        "\n",
        "Numpy provides an easy way to compute sums:"
      ],
      "metadata": {
        "id": "LTRiF6M8WQV1"
      }
    },
    {
      "cell_type": "code",
      "source": [
        "print(x.sum())"
      ],
      "metadata": {
        "colab": {
          "base_uri": "https://localhost:8080/"
        },
        "id": "nJeFnGQ9YZEL",
        "outputId": "8ea97a5e-ef24-4361-91dc-4d9f77b550f3"
      },
      "execution_count": null,
      "outputs": [
        {
          "output_type": "stream",
          "name": "stdout",
          "text": [
            "6\n"
          ]
        }
      ]
    },
    {
      "cell_type": "markdown",
      "source": [
        "### Addition\n",
        "\n",
        "We can add vectors that have the same size. Addition is performed element-wise. For example we can define $\\mathbf{x}$ and $\\mathbf{y}$:\n",
        "\n",
        "\\begin{gather*}\n",
        "\\mathbf{x} = \\begin{bmatrix} 1 \\\\ 2 \\\\ 3 \\end{bmatrix} \\quad\n",
        "\\mathbf{y} = \\begin{bmatrix} 4 \\\\ 5 \\\\ 6 \\end{bmatrix} \\\\\n",
        "\\end{gather*}\n",
        "\n",
        "Then their sum is:\n",
        "\n",
        "\\begin{gather*}\n",
        "\\mathbf{x}+\\mathbf{y} = \\begin{bmatrix} 1+4 \\\\ 2+5 \\\\ 3+6 \\end{bmatrix} =  \\begin{bmatrix} 5 \\\\ 7 \\\\ 9 \\end{bmatrix}\n",
        "\\end{gather*}"
      ],
      "metadata": {
        "id": "39vKnrgcgX9J"
      }
    },
    {
      "cell_type": "code",
      "source": [
        "x = np.array([1,2,3])\n",
        "y = np.array([4,5,6])\n",
        "print(x+y)"
      ],
      "metadata": {
        "colab": {
          "base_uri": "https://localhost:8080/"
        },
        "id": "1MqhKhqJgsSZ",
        "outputId": "6dc51e7b-00eb-47a3-af7b-ee2865dd5bb3"
      },
      "execution_count": null,
      "outputs": [
        {
          "output_type": "stream",
          "name": "stdout",
          "text": [
            "[5 7 9]\n"
          ]
        }
      ]
    },
    {
      "cell_type": "markdown",
      "source": [
        "### Dot product\n",
        "\n",
        "We define the dot product $(\\cdot)$ of $\\mathbf{x}, \\mathbf{y} \\in \\mathbb{R}^{n}$ to be the sum of the element-wise product of the vectors. Formally:\n",
        "\n",
        "\\begin{gather*}\n",
        "\\mathbf{x} \\cdot \\mathbf{y} = \\sum_{i=0}^{n-1} x_i y_i\n",
        "\\end{gather*}\n",
        "\n",
        "The dot product of vectors $\\mathbf{x}$ and $\\mathbf{y}$ from the previous section is:\n",
        "\n",
        "\\begin{gather*}\n",
        "\\mathbf{x} \\cdot \\mathbf{y} = (1 \\cdot 4) + (2 \\cdot 5) + (3 \\cdot 6) = 32\n",
        "\\end{gather*}"
      ],
      "metadata": {
        "id": "nNFxr5XsTsLC"
      }
    },
    {
      "cell_type": "code",
      "source": [
        "print(x.dot(y))"
      ],
      "metadata": {
        "colab": {
          "base_uri": "https://localhost:8080/"
        },
        "id": "8oWJX33hUstV",
        "outputId": "2f41fd65-01bd-4ea2-aa0f-24544c2de8e4"
      },
      "execution_count": null,
      "outputs": [
        {
          "output_type": "stream",
          "name": "stdout",
          "text": [
            "32\n"
          ]
        }
      ]
    },
    {
      "cell_type": "markdown",
      "source": [
        "### Magnitude\n",
        "\n",
        "The magnitude (euclidian norm) of a vector $\\mathbf{x} \\in \\mathbb{R}^{n}$ is the square root of the sum of the squares of the elements:\n",
        "\n",
        "\\begin{gather*}\n",
        "\\| \\mathbf{x} \\|_2 = \\sqrt{\\sum_{i=0}^{n-1} x_i^2} = \\sqrt{\\mathbf{x} \\cdot \\mathbf{x}}\n",
        "\\end{gather*}\n"
      ],
      "metadata": {
        "id": "zuju5dCyf6Q3"
      }
    },
    {
      "cell_type": "code",
      "source": [
        "print(np.linalg.norm(x))\n",
        "print(np.sqrt(np.sum(x**2)))"
      ],
      "metadata": {
        "colab": {
          "base_uri": "https://localhost:8080/"
        },
        "id": "0FBdQRXbgrGV",
        "outputId": "ab130625-a7ce-4e0a-f15c-d45b9fd79f22"
      },
      "execution_count": null,
      "outputs": [
        {
          "output_type": "stream",
          "name": "stdout",
          "text": [
            "3.7416573867739413\n",
            "3.7416573867739413\n"
          ]
        }
      ]
    },
    {
      "cell_type": "markdown",
      "source": [
        "## Matrices\n",
        "\n",
        "A matrix is a 2-dimensional ordered list of numbers. For a matrix $\\mathbf{A}$ with $m$ rows and $n$ columns, we would say $\\mathbf{A} \\in \\mathbb{R}^{m \\times n}$.\n",
        "\n",
        "For example, here is a $3 \\times 2$ matrix:\n",
        "\n",
        "\\begin{gather*}\n",
        "\\mathbf{A} = \\begin{bmatrix} 5 & 2 \\\\ 3 & 1 \\\\ 8 & 6 \\end{bmatrix}\n",
        "\\end{gather*}\n",
        "\n",
        "This also means that an $m$-element column vector is an $m \\times 1$ matrix. Similarly, an $n$-element row vector is a $1 \\times n$ matrix.\n",
        "\n",
        "We denote an element in row $i$ and column $j$ of matrix $\\mathbf{A}$ as $(\\mathbf{A})_{i,j}$ or $a_{i,j}$. Row $i$ can be denoted as either $(\\mathbf{A})_{i,:}$ or $\\mathbf{a}_i^T$. Note that the transpose operator indicates that this is a row vector (i.e. a column vector that has been transposed). Similarly, column $j$ can be denoted as either $(\\mathbf{A})_{:,j}$ or $\\mathbf{a}_j$.\n",
        "\n",
        "In Python we can construct matrices using nested lists. We can also index into them using bracket notation `A[row, col]`."
      ],
      "metadata": {
        "id": "aaNTnPBwZL0L"
      }
    },
    {
      "cell_type": "code",
      "source": [
        "A = np.array([[5,2],[3,1],[8,6]])\n",
        "print(A)\n",
        "print(A[0,0])\n",
        "print(A[1,0])"
      ],
      "metadata": {
        "colab": {
          "base_uri": "https://localhost:8080/"
        },
        "id": "4pP1dnh-fxvi",
        "outputId": "501d1e7e-df37-4aff-be7c-ed1b3327f472"
      },
      "execution_count": null,
      "outputs": [
        {
          "output_type": "stream",
          "name": "stdout",
          "text": [
            "[[5 2]\n",
            " [3 1]\n",
            " [8 6]]\n",
            "5\n",
            "3\n"
          ]
        }
      ]
    },
    {
      "cell_type": "markdown",
      "source": [
        "### Matrix transpose\n",
        "\n",
        "Like vectors, we can transpose matrices. If $\\mathbf{A} \\in \\mathbb{R}^{m \\times n}$, then $\\mathbf{A}^T \\in \\mathbb{R}^{n \\times m}$ and $(\\mathbf{A})_{i,j}= (\\mathbf{A}^T)_{j,i}$. Using the previous example:\n",
        "\n",
        "\\begin{gather*}\n",
        "\\mathbf{A}^T = \\begin{bmatrix} 5 & 3 & 8 \\\\ 2 & 1 & 6 \\end{bmatrix}\n",
        "\\end{gather*}\n",
        "\n"
      ],
      "metadata": {
        "id": "PjIvTiN2wb-U"
      }
    },
    {
      "cell_type": "markdown",
      "source": [
        "\n",
        "### Scalar multiplication\n",
        "\n",
        "Matrices can be multiplied by a scalar, which is applied element-wise. For example:\n",
        "\n",
        "\\begin{gather*}\n",
        "2\\mathbf{A} = \\begin{bmatrix} 2(5) & 2(2) \\\\ 2(3) & 2(1) \\\\ 2(8) & 2(6) \\end{bmatrix} = \\begin{bmatrix} 10 & 4 \\\\ 6 & 2 \\\\ 16 & 12 \\end{bmatrix}\n",
        "\\end{gather*}\n"
      ],
      "metadata": {
        "id": "ZYzmfSYmfyFv"
      }
    },
    {
      "cell_type": "code",
      "source": [
        "print(2*A)"
      ],
      "metadata": {
        "colab": {
          "base_uri": "https://localhost:8080/"
        },
        "id": "BOHiDk8Ohinw",
        "outputId": "08d7590d-d317-4695-d61d-65186557e907"
      },
      "execution_count": null,
      "outputs": [
        {
          "output_type": "stream",
          "name": "stdout",
          "text": [
            "[[10  4]\n",
            " [ 6  2]\n",
            " [16 12]]\n"
          ]
        }
      ]
    },
    {
      "cell_type": "markdown",
      "source": [
        "\n",
        "### Addition\n",
        "\n",
        "We can add matricies that have the same size. Addition is also performed element-wise. For example:\n",
        "\n",
        "\\begin{gather*}\n",
        "\\mathbf{A} = \\begin{bmatrix} 1 & 2 \\\\ 3 & 4 \\end{bmatrix} \\quad \\mathbf{B} = \\begin{bmatrix} 5 & 6 \\\\ 7 & 8 \\end{bmatrix} \\\\\n",
        "\\mathbf{A} + \\mathbf{B} = \\begin{bmatrix} 6 & 8 \\\\ 10 & 12 \\end{bmatrix}\n",
        "\\end{gather*}"
      ],
      "metadata": {
        "id": "5fvqjfbWhi3-"
      }
    },
    {
      "cell_type": "code",
      "source": [
        "A = np.array([[1,2],[3,4]])\n",
        "B = np.array([[5,6],[7,8]])\n",
        "print(A+B)"
      ],
      "metadata": {
        "colab": {
          "base_uri": "https://localhost:8080/"
        },
        "id": "vXIoY_doZrGh",
        "outputId": "1507624f-c6aa-4e9c-ce03-cff17cd284b3"
      },
      "execution_count": null,
      "outputs": [
        {
          "output_type": "stream",
          "name": "stdout",
          "text": [
            "[[ 6  8]\n",
            " [10 12]]\n"
          ]
        }
      ]
    },
    {
      "cell_type": "markdown",
      "source": [
        "## Matrix Multiplication\n",
        "\n"
      ],
      "metadata": {
        "id": "o_KqfS4Hie9R"
      }
    },
    {
      "cell_type": "markdown",
      "source": [
        "### Compatible sizes\n",
        "\n",
        "We can multiply two matrices provided their sizes are compatible. If $\\mathbf{A} \\in \\mathbb{R}^{m \\times n}$ and $\\mathbf{B} \\in \\mathbb{R}^{n \\times d}$, then we can compute $\\mathbf{AB} \\in \\mathbb{R}^{m \\times d}$.\n",
        "\n",
        "In other words, the number of columns in $\\mathbf{A}$ and the number of rows in $\\mathbf{B}$ must match. The resulting matrix will have the same number of rows as $\\mathbf{A}$ and the same number of columns as $\\mathbf{B}$.\n",
        "\n",
        "An easy way to remember this is to write the dimensions of the matrix side-by-side. If the middle numbers are the same, then they cancel each other out and the product can be computed. For example:\n",
        "\n",
        "\\begin{gather*}\n",
        "(3 \\times 2) (2 \\times 4) \\rightarrow 3 \\times 4\n",
        "\\end{gather*}"
      ],
      "metadata": {
        "id": "QwAjMEm2aeBn"
      }
    },
    {
      "cell_type": "markdown",
      "source": [
        "\n",
        "### Computing matrix products\n",
        "To compute the elements of the matrix product, we take the dot product of the $i$-th row of $\\mathbf{A}$ and the $j$-th column of $\\mathbf{B}$. \n",
        "\n",
        "\\begin{gather*}\n",
        "(\\mathbf{AB})_{i,j} = (\\mathbf{A})_{i,:} \\cdot (\\mathbf{B})_{:,j} = \\mathbf{a}_i^T \\cdot \\mathbf{b}_j\n",
        "\\end{gather*}\n",
        "\n",
        "We can also write this using summation notation:\n",
        "\n",
        "\\begin{gather*}\n",
        "(\\mathbf{AB})_{i,j} = \\sum_{k=0}^{m-1} a_{i,k} b_{k,j}\n",
        "\\end{gather*}\n",
        "\n",
        "For example define $\\mathbf{A} \\in \\mathbb{R}^{3 \\times 2}$ and $\\mathbf{B} \\in \\mathbb{R}^{2 \\times 4}$:\n",
        "\n",
        "\\begin{gather*}\n",
        "\\mathbf{A} = \\begin{bmatrix} 5 & 2 \\\\ 3 & 1 \\\\ 8 & 6 \\end{bmatrix} \\quad \\mathbf{B} = \\begin{bmatrix} 7 & 2 & 3 & 6 \\\\ 4 & 1 & 5 & 2 \\end{bmatrix}\n",
        "\\end{gather*}\n",
        "\n",
        "Then we can compute $\\mathbf{AB} \\in \\mathbb{R}^{3 \\times 4}$:\n",
        "\n",
        "\\begin{gather*}\n",
        "\\mathbf{AB} = \\begin{bmatrix}\n",
        "\\mathbf{a}_0^T \\cdot \\mathbf{b}_0 & \\mathbf{a}_0^T \\cdot \\mathbf{b}_1 & \\mathbf{a}_0^T \\cdot \\mathbf{b}_2 & \\mathbf{a}_0^T \\cdot \\mathbf{b}_3 \\\\\n",
        "\\mathbf{a}_1^T \\cdot \\mathbf{b}_0 & \\mathbf{a}_1^T \\cdot \\mathbf{b}_1 & \\mathbf{a}_1^T \\cdot \\mathbf{b}_2 & \\mathbf{a}_1^T \\cdot \\mathbf{b}_3 \\\\\n",
        "\\mathbf{a}_2^T \\cdot \\mathbf{b}_0 & \\mathbf{a}_2^T \\cdot \\mathbf{b}_1 & \\mathbf{a}_2^T \\cdot \\mathbf{b}_2 & \\mathbf{a}_2^T \\cdot \\mathbf{b}_3\n",
        "\\end{bmatrix} \\\\\n",
        "= \\begin{bmatrix}\n",
        "5\\cdot7+2\\cdot4 & 5\\cdot2+2\\cdot1 & 5\\cdot3+2\\cdot5 & 5\\cdot6+2\\cdot2 \\\\\n",
        "3\\cdot7+1\\cdot4 & 3\\cdot2+1\\cdot1 & 3\\cdot3+1\\cdot5 & 3\\cdot6+1\\cdot2 \\\\\n",
        "8\\cdot7+6\\cdot4 & 8\\cdot2+6\\cdot1 & 8\\cdot3+6\\cdot5 & 8\\cdot6+6\\cdot2\n",
        "\\end{bmatrix} \\\\\n",
        "= \\begin{bmatrix}\n",
        "43 & 12 & 25 & 34 \\\\\n",
        "25 & 7 & 14 & 20 \\\\\n",
        "80 & 22 & 54 & 60\n",
        "\\end{bmatrix}\n",
        "\\end{gather*}\n",
        "\n",
        "In Python, matrix products can be computed with the `@` operator:"
      ],
      "metadata": {
        "id": "apZftgPaaeMK"
      }
    },
    {
      "cell_type": "code",
      "source": [
        "A = np.array([[5,2],[3,1],[8,6]])\n",
        "B = np.array([[7,2,3,6],[4,1,5,2]])\n",
        "C = A@B\n",
        "print(A)\n",
        "print(A.shape)\n",
        "print(B)\n",
        "print(B.shape)\n",
        "print(C)\n",
        "print(C.shape)"
      ],
      "metadata": {
        "colab": {
          "base_uri": "https://localhost:8080/"
        },
        "id": "J0kqHx_1nray",
        "outputId": "0caec77e-0fa1-423f-8e1c-57e2941ef31e"
      },
      "execution_count": null,
      "outputs": [
        {
          "output_type": "stream",
          "name": "stdout",
          "text": [
            "[[5 2]\n",
            " [3 1]\n",
            " [8 6]]\n",
            "(3, 2)\n",
            "[[7 2 3 6]\n",
            " [4 1 5 2]]\n",
            "(2, 4)\n",
            "[[43 12 25 34]\n",
            " [25  7 14 20]\n",
            " [80 22 54 60]]\n",
            "(3, 4)\n"
          ]
        }
      ]
    },
    {
      "cell_type": "markdown",
      "source": [
        "### Dot product as matrix product\n",
        "\n",
        "If we consider column vectors $\\mathbf{x},\\mathbf{y} \\in \\mathbb{R}^{n}$ as $n \\times 1$ matrices, then we can rewrite the dot product using matrix multiplication:\n",
        "\n",
        "\\begin{gather*}\n",
        "\\mathbf{x} \\cdot \\mathbf{y} = \\sum_{i=0}^{n-1} x_i y_i = \\sum_{i=0}^{n-1} x_{i,0} y_{i,0} = \\sum_{i=0}^{n-1} (\\mathbf{x}^T)_{0,i} (\\mathbf{y})_{i,0} = \\mathbf{x}^T \\mathbf{y}\n",
        "\\end{gather*}\n",
        "\n",
        "$\\mathbf{x}^T$ is a $1 \\times n$ row vector, so the result of $\\mathbf{x}^T \\mathbf{y}$ is a $1 \\times 1$ matrix which is just a scalar. This is nice because it is consistent with our notation of matrix rows and columns from earlier, and we can just drop the ($\\cdot$) operator altogether."
      ],
      "metadata": {
        "id": "JZBCIby7tcDt"
      }
    },
    {
      "cell_type": "code",
      "source": [
        "x = np.array([1,2,3])\n",
        "y = np.array([4,5,6])\n",
        "print(x.dot(y))\n",
        "print(x.T @ y)"
      ],
      "metadata": {
        "colab": {
          "base_uri": "https://localhost:8080/"
        },
        "id": "JgXpjJ_st3KG",
        "outputId": "e6164fb5-1e37-4ea8-920a-a7aa506ab254"
      },
      "execution_count": null,
      "outputs": [
        {
          "output_type": "stream",
          "name": "stdout",
          "text": [
            "32\n",
            "32\n"
          ]
        }
      ]
    },
    {
      "cell_type": "markdown",
      "source": [
        "### Matrix-vector products\n",
        "\n",
        "Matrix-vector products are just a specific case of matrix multiplication. However, there is an alternative interpretation of matrix-vector products which is sometimes useful. To see this, we can write the matrix-vector product $\\mathbf{Ax}$ as follows:\n",
        "\n",
        "$\\newcommand{\\vertbar}{\\rule[-1ex]{0.5pt}{2.5ex}}$\n",
        "$\\newcommand{\\horzbar}{\\rule[.5ex]{2.5ex}{0.5pt}}$\n",
        "\\begin{gather*}\n",
        "\\mathbf{Ax} = \\left[\n",
        "  \\begin{array}{ccc}\n",
        "    \\horzbar & \\mathbf{a}^{T}_{0} & \\horzbar \\\\\n",
        "    \\horzbar & \\mathbf{a}^{T}_{1} & \\horzbar \\\\\n",
        "             & \\vdots    &          \\\\\n",
        "    \\horzbar & \\mathbf{a}^{T}_{n} & \\horzbar\n",
        "  \\end{array}\n",
        "\\right]\n",
        "\\left[\n",
        "  \\begin{array}{cccc}\n",
        "    \\vertbar \\\\\n",
        "    \\mathbf{x} \\\\\n",
        "    \\vertbar\n",
        "  \\end{array}\n",
        "\\right]\n",
        "= \\begin{bmatrix}\n",
        "\\mathbf{a}^{T}_{0}\\mathbf{x} \\\\\n",
        "\\mathbf{a}^{T}_{1}\\mathbf{x} \\\\\n",
        "\\vdots \\\\\n",
        "\\mathbf{a}^{T}_{n-1}\\mathbf{x} \\end{bmatrix}\n",
        "\\end{gather*}\n",
        "\n",
        "If we expand out the dot products we can see the following:\n",
        "\n",
        "\\begin{gather*}\n",
        "\\begin{bmatrix}\n",
        "a_{0,0}x_{0} + a_{0,1}x_{1} + \\ldots + a_{0,n-1}x_{n-1} \\\\\n",
        "a_{1,0}x_{0} + a_{1,1}x_{1} + \\ldots + a_{1,n-1}x_{n-1} \\\\\n",
        "\\vdots \\\\\n",
        "a_{n-1,0}x_{0} + a_{n-1,1}x_{1} + \\ldots + a_{n-1,n-1}x_{n-1} \\\\\n",
        "\\end{bmatrix}\n",
        "= x_0 \\left[\n",
        "  \\begin{array}{cccc}\n",
        "    \\vertbar \\\\\n",
        "    \\mathbf{a}_0 \\\\\n",
        "    \\vertbar\n",
        "  \\end{array}\n",
        "\\right]\n",
        "+ x_1 \\left[\n",
        "  \\begin{array}{cccc}\n",
        "    \\vertbar \\\\\n",
        "    \\mathbf{a}_1 \\\\\n",
        "    \\vertbar\n",
        "  \\end{array}\n",
        "\\right]\n",
        "+ \\ldots + x_{n-1} \\left[\n",
        "  \\begin{array}{cccc}\n",
        "    \\vertbar \\\\\n",
        "    \\mathbf{a}_{n-1} \\\\\n",
        "    \\vertbar\n",
        "  \\end{array}\n",
        "\\right]\n",
        "\\end{gather*} \n",
        "\n",
        "This means that $\\mathbf{Ax}$ is a weighted sum of the columns of $\\mathbf{A}$, where the weights are the entries of $\\mathbf{x}$.\n",
        "\n",
        "We can construct a similar result for the product $\\mathbf{y}^T \\mathbf{B}$:\n",
        "\n",
        "\\begin{gather*}\n",
        "\\mathbf{y}^T \\mathbf{B}\n",
        "= y_0 \\left[\n",
        "  \\begin{array}{ccc}\n",
        "    \\horzbar & \\mathbf{b}^{T}_{0} & \\horzbar\n",
        "  \\end{array}\n",
        "\\right]\n",
        "+ y_{1} \\left[\n",
        "  \\begin{array}{ccc}\n",
        "    \\horzbar & \\mathbf{b}^{T}_{1} & \\horzbar\n",
        "  \\end{array}\n",
        "\\right]\n",
        "+ \\ldots + y_{n-1} \\left[\n",
        "  \\begin{array}{ccc}\n",
        "    \\horzbar & \\mathbf{b}^{T}_{n-1} & \\horzbar\n",
        "  \\end{array}\n",
        "\\right]\n",
        "\\end{gather*}"
      ],
      "metadata": {
        "id": "zMmaLOEGvfBs"
      }
    },
    {
      "cell_type": "code",
      "source": [
        "A = np.array([[5,2],[3,1],[8,6]])\n",
        "x = np.array([2,1])\n",
        "print(A@x)\n",
        "\n",
        "y = np.zeros(3)\n",
        "for j in range(A.shape[1]):\n",
        "    y += x[j] * A[:,j] # multiply columns of A by corresponding element in x and sum\n",
        "print(y)"
      ],
      "metadata": {
        "colab": {
          "base_uri": "https://localhost:8080/"
        },
        "id": "jNaTjweWGgCi",
        "outputId": "0eaecf2c-6a07-459d-e256-27a36e5b4269"
      },
      "execution_count": null,
      "outputs": [
        {
          "output_type": "stream",
          "name": "stdout",
          "text": [
            "[12  7 22]\n",
            "[12.  7. 22.]\n"
          ]
        }
      ]
    },
    {
      "cell_type": "markdown",
      "source": [
        "### Matrix products as stacked matrix-vector products\n",
        "\n",
        "Finally, we build two additional interpretations of matrix multiplication. Let $\\mathbf{A} \\in \\mathbb{R}^{m \\times n}$, $\\mathbf{B} \\in \\mathbb{R}^{n \\times d}$, and $\\mathbf{AB} \\in \\mathbb{R}^{m \\times d}$:\n",
        "\n",
        "\\begin{gather*}\n",
        "\\mathbf{AB} = \\left[\n",
        "  \\begin{array}{cccc}\n",
        "    \\vertbar & \\vertbar &        & \\vertbar \\\\\n",
        "    \\mathbf{Ab}_0 & \\mathbf{Ab}_1 & \\ldots & \\mathbf{Ab}_{d-1} \\\\\n",
        "    \\vertbar & \\vertbar &        & \\vertbar \n",
        "  \\end{array}\n",
        "\\right]\n",
        "= \\left[\n",
        "  \\begin{array}{ccc}\n",
        "    \\horzbar & \\mathbf{a}^{T}_{0}\\mathbf{B} & \\horzbar \\\\\n",
        "    \\horzbar & \\mathbf{a}^{T}_{1}\\mathbf{B} & \\horzbar \\\\\n",
        "             & \\vdots    &          \\\\\n",
        "    \\horzbar & \\mathbf{a}^{T}_{m-1}\\mathbf{B} & \\horzbar\n",
        "  \\end{array}\n",
        "\\right]\n",
        "\\end{gather*}\n",
        "\n",
        "In other words, matrix multiplication is equivalent to stacking several matrix-vector products. In the first case, each column of $\\mathbf{AB}$ is a different weighted sum of the columns of $\\mathbf{A}$, with the weights given by $\\mathbf{b}_j$. In the second case, each row of $\\mathbf{AB}$ is a different weighed sum of the rows of $\\mathbf{B}$, with the weights given by $\\mathbf{a}^T_i$."
      ],
      "metadata": {
        "id": "gSkBa9uSCvQX"
      }
    },
    {
      "cell_type": "code",
      "source": [
        "A = np.array([[5,2],[3,1],[8,6]])\n",
        "B = np.array([[7,2,3,6],[4,1,5,2]])\n",
        "print(A@B)\n",
        "\n",
        "C = np.zeros((A.shape[0], B.shape[1]))\n",
        "for j in range(B.shape[1]):\n",
        "    C[:,j] = A @ B[:,j] # column j of C equals A multiplied by column j of B\n",
        "print(C)"
      ],
      "metadata": {
        "colab": {
          "base_uri": "https://localhost:8080/"
        },
        "id": "otugBTbdHMzx",
        "outputId": "2b318cb1-f705-498c-899c-3b71f8db03f1"
      },
      "execution_count": null,
      "outputs": [
        {
          "output_type": "stream",
          "name": "stdout",
          "text": [
            "[[43 12 25 34]\n",
            " [25  7 14 20]\n",
            " [80 22 54 60]]\n",
            "[[43. 12. 25. 34.]\n",
            " [25.  7. 14. 20.]\n",
            " [80. 22. 54. 60.]]\n"
          ]
        }
      ]
    },
    {
      "cell_type": "markdown",
      "source": [
        "## Square Matrices"
      ],
      "metadata": {
        "id": "oYXEvatrHoQK"
      }
    },
    {
      "cell_type": "markdown",
      "source": [
        "### Identity matrix\n",
        "\n",
        "The identity matrix $\\mathbf{I}$ has ones on the diagonal of the matrix and zeros elsewhere. For example:\n",
        "\n",
        "\\begin{gather*}\n",
        "\\mathbf{I}_{3 \\times 3} = \\begin{bmatrix}\n",
        "1 & 0 & 0 \\\\\n",
        "0 & 1 & 0 \\\\\n",
        "0 & 0 & 1\n",
        "\\end{bmatrix}\n",
        "\\end{gather*}\n",
        "\n",
        "Any vector $\\mathbf{x}$ or matrix $\\mathbf{A}$ left-multiplied or right-multiplied by $\\mathbf{I}$ is equal to itsef.\n",
        "\n",
        "\n",
        "\\begin{gather*}\n",
        "\\mathbf{I}\\mathbf{x} = \\mathbf{x} \\\\\n",
        "\\mathbf{x}^T \\mathbf{I} = \\mathbf{x}^T \\\\\n",
        "\\mathbf{A}\\mathbf{I} = \\mathbf{I}\\mathbf{A} = \\mathbf{A} \\\\\n",
        "\\end{gather*}\n"
      ],
      "metadata": {
        "id": "v3x78RVtaRcR"
      }
    },
    {
      "cell_type": "markdown",
      "source": [
        "### Matrix inverse\n",
        "\n",
        "Given a square matrix $\\mathbf{A} \\in \\mathbb{R}^{n \\times n}$, we define $\\mathbf{A}^{-1} \\in \\mathbb{R}^{n \\times n}$ to be the inverse of $\\mathbf{A}$ if:\n",
        "\n",
        "\\begin{gather*}\n",
        "\\mathbf{A}\\mathbf{A}^{-1} = \\mathbf{A}^{-1}\\mathbf{A} = \\mathbf{I}\n",
        "\\end{gather*}\n",
        "\n",
        "Note that an inverse only exists for square matrices otherwise the dimensions of $\\mathbf{A}\\mathbf{A}^{-1}$ and $\\mathbf{A}^{-1}\\mathbf{A}$ would not be the same.\n",
        "\n",
        "We can calculate the inverse of a square matrix in Python as follows:"
      ],
      "metadata": {
        "id": "nw84jpq_aR4a"
      }
    },
    {
      "cell_type": "code",
      "source": [
        "A = np.random.random((3,3))\n",
        "print(A)\n",
        "print(np.linalg.inv(A))\n",
        "print(A @ np.linalg.inv(A))"
      ],
      "metadata": {
        "colab": {
          "base_uri": "https://localhost:8080/"
        },
        "id": "XZJM0Da5J0xp",
        "outputId": "97c47f7c-fda8-4bb5-deaf-b617232b7bd9"
      },
      "execution_count": null,
      "outputs": [
        {
          "output_type": "stream",
          "name": "stdout",
          "text": [
            "[[0.5488135  0.71518937 0.60276338]\n",
            " [0.54488318 0.4236548  0.64589411]\n",
            " [0.43758721 0.891773   0.96366276]]\n",
            "[[ 1.98960852  1.79913766 -2.4503547 ]\n",
            " [ 2.87590887 -3.14471165  0.30888212]\n",
            " [-3.56482088  2.09314855  1.86454351]]\n",
            "[[ 1.00000000e+00  1.96961799e-16 -4.33955045e-18]\n",
            " [-9.49067715e-17  1.00000000e+00  9.86526551e-17]\n",
            " [-3.52864424e-16  2.55412709e-16  1.00000000e+00]]\n"
          ]
        }
      ]
    },
    {
      "cell_type": "markdown",
      "source": [
        "Note: Observe how the off-diagonal entries in the matrix `A @ np.linalg.inv(A)` are not quite zero. This is due to roundoff errors that occur during the computation of the matrix inverse. These arise because a floating point number can only hold so many digits of precision. In most practical cases this does not matter, as `1e-16` is effectively zero.\n",
        "\n",
        "**Some square matrices do not have an inverse and are called non-invertible, singular, or rank-deficient.** We can check for singular matrices by looking for matrix rank $r < n$."
      ],
      "metadata": {
        "id": "RRrVdfUqKGUm"
      }
    },
    {
      "cell_type": "code",
      "source": [
        "A = np.eye(3) # non-singular \n",
        "print(np.linalg.matrix_rank(A))\n",
        "B = np.array([[1, 0, 0], [0, 1, 0], [0, 0, 0]]) # singular\n",
        "print(np.linalg.matrix_rank(B))"
      ],
      "metadata": {
        "colab": {
          "base_uri": "https://localhost:8080/"
        },
        "id": "-14Go4Q1K-VG",
        "outputId": "5e648624-7e23-44c5-e265-b0ff02ddcb5f"
      },
      "execution_count": null,
      "outputs": [
        {
          "output_type": "stream",
          "name": "stdout",
          "text": [
            "3\n",
            "2\n"
          ]
        }
      ]
    },
    {
      "cell_type": "markdown",
      "source": [
        "### Matrix determinant\n",
        "\n",
        "The determinant of a square matrix is a scalar that encodes information about how it transforms other vectors and matrices. We can calculate the determinant of $\\mathbf{A} \\in \\mathbb{R}^{2 \\times 2}$ as follows:\n",
        "\n",
        "\\begin{gather*}\n",
        "|\\mathbf{A}| = \\mathrm{det}(\\mathbf{A}) = \\begin{vmatrix} a_{0,0} & a_{0,1} \\\\ a_{1,0} & a_{1,1} \\end{vmatrix} = a_{0,0}a_{1,1} - a_{1,0}a_{0,1}\n",
        "\\end{gather*}\n",
        "\n",
        "For larger matrices the formula is more complicated but it is simple to compute in Python:"
      ],
      "metadata": {
        "id": "MT6KJEoFLGtB"
      }
    },
    {
      "cell_type": "code",
      "source": [
        "A = np.random.random((5,5))\n",
        "print(A)\n",
        "print(np.linalg.det(A))"
      ],
      "metadata": {
        "colab": {
          "base_uri": "https://localhost:8080/"
        },
        "id": "aPN-0aXOOeN3",
        "outputId": "6198b690-c738-4365-c0e4-6f341cef6a5a"
      },
      "execution_count": null,
      "outputs": [
        {
          "output_type": "stream",
          "name": "stdout",
          "text": [
            "[[0.38344152 0.79172504 0.52889492 0.56804456 0.92559664]\n",
            " [0.07103606 0.0871293  0.0202184  0.83261985 0.77815675]\n",
            " [0.87001215 0.97861834 0.79915856 0.46147936 0.78052918]\n",
            " [0.11827443 0.63992102 0.14335329 0.94466892 0.52184832]\n",
            " [0.41466194 0.26455561 0.77423369 0.45615033 0.56843395]]\n",
            "-0.08775630017504642\n"
          ]
        }
      ]
    },
    {
      "cell_type": "markdown",
      "source": [
        "The determinant has a nice geometric interpretation:\n",
        ">Consider the unit $n$-cube. The corners of this cube are all the points in $\\mathbb{R}^n$ where each coordinate is either $0$ or $1$. The unit $n$-cube has an $n$-dimensional volume of $1$. If we transform the $n$-cube by the matrix $\\mathbf{A}$, then the new volume is equal to $\\mathrm{det}(\\mathbf{A})$.\n",
        "\n",
        "This can be understood more easily by focusing on $\\mathbb{R}^2$. We can plot the corners of the unit 2-cube (a square) as follows:"
      ],
      "metadata": {
        "id": "h7GP6QKoOnGn"
      }
    },
    {
      "cell_type": "code",
      "source": [
        "# generate the corners by considering all points that have x[0] = 0 or 1 and x[1] = 0 or 1\n",
        "corners = [\n",
        "    [0, 0],\n",
        "    [1, 0],\n",
        "    [1, 1],\n",
        "    [0, 1]\n",
        "]\n",
        "\n",
        "plt.fill(*zip(*corners)) # fill the shape\n",
        "\n",
        "for c in corners:\n",
        "    plt.plot(c[0], c[1], 'ro') # plot the corners\n",
        "\n",
        "plt.show()"
      ],
      "metadata": {
        "colab": {
          "base_uri": "https://localhost:8080/",
          "height": 265
        },
        "id": "7u9XnHR4PKJE",
        "outputId": "f1948d56-b6e6-4c16-99bd-9f8b70ec63bc"
      },
      "execution_count": null,
      "outputs": [
        {
          "output_type": "display_data",
          "data": {
            "text/plain": [
              "<Figure size 432x288 with 1 Axes>"
            ],
            "image/png": "[encoded data removed]"
          },
          "metadata": {
            "needs_background": "light"
          }
        }
      ]
    },
    {
      "cell_type": "markdown",
      "source": [
        "Now we pick a few different $2 \\times 2$ matricies, print their determinants, and plot how they transform the unit square:"
      ],
      "metadata": {
        "id": "bs2iASz9SOCb"
      }
    },
    {
      "cell_type": "code",
      "source": [
        "A = np.array([[2, 0], [0, 2]])\n",
        "B = np.array([[0.6, 0.4], [0.4, 0.6]])\n",
        "\n",
        "for M in (A, B):\n",
        "\n",
        "    print(\"matrix:\")\n",
        "    print(M)\n",
        "    print(\"determinant:\", np.linalg.det(M))\n",
        "\n",
        "    transformed_corners = [M @ c for c in corners] # transform each corner\n",
        "\n",
        "    plt.fill(*zip(*transformed_corners)) # fill the shape\n",
        "\n",
        "    for c in transformed_corners:\n",
        "        plt.plot(c[0], c[1], 'ro') # plot the corners\n",
        "    \n",
        "    plt.show()"
      ],
      "metadata": {
        "colab": {
          "base_uri": "https://localhost:8080/",
          "height": 656
        },
        "id": "2ybwC8MMTskN",
        "outputId": "6e4896f9-46d9-4e61-c683-8c0207c02bea"
      },
      "execution_count": null,
      "outputs": [
        {
          "output_type": "stream",
          "name": "stdout",
          "text": [
            "matrix:\n",
            "[[2 0]\n",
            " [0 2]]\n",
            "determinant: 4.0\n"
          ]
        },
        {
          "output_type": "display_data",
          "data": {
            "text/plain": [
              "<Figure size 432x288 with 1 Axes>"
            ],
            "image/png": "[encoded data removed]"
          },
          "metadata": {
            "needs_background": "light"
          }
        },
        {
          "output_type": "stream",
          "name": "stdout",
          "text": [
            "matrix:\n",
            "[[0.6 0.4]\n",
            " [0.4 0.6]]\n",
            "determinant: 0.19999999999999993\n"
          ]
        },
        {
          "output_type": "display_data",
          "data": {
            "text/plain": [
              "<Figure size 432x288 with 1 Axes>"
            ],
            "image/png": "[encoded data removed]"
          },
          "metadata": {
            "needs_background": "light"
          }
        }
      ]
    },
    {
      "cell_type": "markdown",
      "source": [
        "In the first case it is clear that $\\mathrm{det}(\\mathbf{A})$ is the area of the scaled square. In the second case, we can see that the unit square has been squished, and the reduced area is reflected in the smaller determinant. If we compute the area of this parallelogram we would find it to be exactly $\\mathrm{det}(\\mathbf{B})$."
      ],
      "metadata": {
        "id": "5wNTJpq5XcAb"
      }
    },
    {
      "cell_type": "markdown",
      "source": [
        "## Useful Matrix Identities\n",
        "\n",
        "Copied from https://dustinstansbury.github.io/theclevermachine/linear-algebra-identities\n",
        "\n",
        "### Basic Properties\n",
        "\\begin{eqnarray*}\n",
        "\\mathbf{A} + \\mathbf{B} &=& \\mathbf{B} + \\mathbf{A} \\\\\n",
        "\\mathbf{A} + (\\mathbf{B} + \\mathbf{C}) &=& (\\mathbf{A} + \\mathbf{B}) + \\mathbf{C} \\\\\n",
        "\\mathbf{A} (\\mathbf{B} + \\mathbf{C}) &=& (\\mathbf{AB} + \\mathbf{AC}) \\\\\n",
        "a(\\mathbf{B} + \\mathbf{C}) &=& (a\\mathbf{B} + a\\mathbf{C}) = (\\mathbf{B}a + \\mathbf{C}a) \\\\\n",
        "\\mathbf{AB} &\\neq& \\mathbf{BA} \\\\\n",
        "\\mathbf{ABC} &=& (\\mathbf{AB})\\mathbf{C} = \\mathbf{A}(\\mathbf{BC}) \\\\\n",
        "\\end{eqnarray*}\n",
        "\n",
        "### Transposes\n",
        "\\begin{eqnarray*}\n",
        "(\\mathbf{A}^T)^T &=& \\mathbf{A} \\\\\n",
        "(\\mathbf{AB})^T &=& \\mathbf{B}^{T}\\mathbf{A}^{T} \\\\\n",
        "(\\mathbf{ABC})^T &=& \\mathbf{C}^{T}\\mathbf{B}^{T}\\mathbf{A}^{T} \\\\\n",
        "(\\mathbf{A} + \\mathbf{B})^T &=& (\\mathbf{A}^T + \\mathbf{B}^T) \\\\\n",
        "\\end{eqnarray*}\n",
        "\n",
        "### Inverses and Identity\n",
        "\n",
        "\\begin{eqnarray*}\n",
        "\\mathbf{AI} &=& \\mathbf{IA} = \\mathbf{A} \\\\\n",
        "\\mathbf{AA}^{-1} &=& \\mathbf{A}^{-1}\\mathbf{A} = \\mathbf{I} \\\\\n",
        "(\\mathbf{A}^{-1})^{-1} &=& \\mathbf{A} \\\\\n",
        "(\\mathbf{AB})^{-1} &=& \\mathbf{B}^{-1}\\mathbf{A}^{-1}  \\\\\n",
        "(\\mathbf{ABC})^{-1} &=& \\mathbf{C}^{-1}\\mathbf{B}^{-1}\\mathbf{A}^{-1} \\\\\n",
        "(\\mathbf{A}^T)^{-1} &=& (\\mathbf{A}^{-1})^T \\\\\n",
        "\\end{eqnarray*}\n",
        "\n",
        "### Determinants\n",
        "\n",
        "\\begin{eqnarray*}\n",
        "\\det(\\mathbf{A}^T) &=& \\det(\\mathbf{A}) \\\\\n",
        "\\det(\\mathbf{AB}) &=& \\det(\\mathbf{A})\\det(\\mathbf{B}) \\\\\n",
        "\\det(\\mathbf{A}^{-1}) &=& \\frac{1}{\\det(\\mathbf{A})} \\\\\n",
        "\\det(\\mathbf{A}^n) &=& \\det(\\mathbf{A})^n \\\\\n",
        "\\det(c\\mathbf{A}) &=& c^n \\det(\\mathbf{A}), \\;\\; \\text{given }  \\mathbf{A} \\in \\mathbb{R}^{n \\times n} \\\\\n",
        "\\end{eqnarray*}"
      ],
      "metadata": {
        "id": "GSIGSuwqbXS9"
      }
    },
    {
      "cell_type": "markdown",
      "source": [
        "## Matrix Equations\n"
      ],
      "metadata": {
        "id": "-6nSY5u-eEU4"
      }
    },
    {
      "cell_type": "markdown",
      "source": [
        "Given a matrix $\\mathbf{A} \\in \\mathbb{R}^{m \\times n}$ and vector $\\mathbf{b} \\in \\mathbb{R}^{m}$, one might ask which vectors $\\mathbf{x} \\in \\mathbb{R}^{n}$ satisfy the following equation:\n",
        "\n",
        "\\begin{gather*}\n",
        "\\mathbf{Ax} = \\mathbf{b}\n",
        "\\end{gather*}\n",
        "\n",
        "As we will see, the answer to this question depends on both the entries and shape of $\\mathbf{A}$ and $\\mathbf{b}$. We will look some of the most common cases below."
      ],
      "metadata": {
        "id": "hFgZgBQUEOCj"
      }
    },
    {
      "cell_type": "markdown",
      "source": [
        "### Square matrix ($m=n$)\n",
        "\n",
        "Let's assume that $\\mathbf{A}$ is a square matrix, so $m=n$. We can expand out the matrix equation:\n",
        "\n",
        "\\begin{gather*}\n",
        "\\mathbf{Ax}\n",
        "= \\begin{bmatrix}\n",
        "\\mathbf{a}^{T}_{0}\\mathbf{x} \\\\\n",
        "\\mathbf{a}^{T}_{1}\\mathbf{x} \\\\\n",
        "\\vdots \\\\\n",
        "\\mathbf{a}^{T}_{n-1}\\mathbf{x}\n",
        "\\end{bmatrix}\n",
        "= \\begin{bmatrix}\n",
        "a_{0,0}x_{0} + a_{0,1}x_{1} + \\ldots + a_{0,n-1}x_{n-1} \\\\\n",
        "a_{1,0}x_{0} + a_{1,1}x_{1} + \\ldots + a_{1,n-1}x_{n-1} \\\\\n",
        "\\vdots \\\\\n",
        "a_{n-1,0}x_{0} + a_{n-1,1}x_{1} + \\ldots + a_{n-1,n-1}x_{n-1} \\\\\n",
        "\\end{bmatrix}\n",
        "= \\begin{bmatrix} b_0 \\\\ b_1 \\\\ \\vdots \\\\ b_{n-1} \\end{bmatrix}\n",
        "\\end{gather*}\n",
        "\n",
        "This is nothing more than a system of linear equations with variables $x_0, x_1, \\ldots, x_{n-1} $.\n",
        "\n",
        "\\begin{gather*}\n",
        "a_{0,0}x_{0} + a_{0,1}x_{1} + \\ldots + a_{0,n-1}x_{n-1} = b_0 \\\\\n",
        "a_{1,0}x_{0} + a_{1,1}x_{1} + \\ldots + a_{1,n-1}x_{n-1} = b_1 \\\\\n",
        "\\vdots \\\\\n",
        "a_{n-1,0}x_{0} + a_{n-1,1}x_{1} + \\ldots + a_{n-1,n-1}x_{n-1} = b_{n-1}\n",
        "\\end{gather*}\n",
        "\n",
        "Since $\\mathbf{A}$ is a square matrix, we have $n$ equations and $n$ unknowns. This means that the system of equations can generally be solved. We will skip the cases where $\\mathbf{A}$ is singular, as this corresponds to all the systems that have either no solution or infinite solutions.\n",
        "\n",
        "To solve the matrix equation, we can left-multiply both sides of the equation by $\\mathbf{A}^{-1}$.\n",
        "\n",
        "\\begin{align*}\n",
        "\\mathbf{Ax} &= \\mathbf{b} \\\\\n",
        "\\mathbf{A}^{-1} \\mathbf{Ax} &= \\mathbf{A}^{-1}\\mathbf{b} \\\\\n",
        "\\mathbf{x} &= \\mathbf{A}^{-1}\\mathbf{b}\n",
        "\\end{align*}\n",
        "\n",
        "While this is mathematically correct, it can be expensive to compute $\\mathbf{A}^{-1}$. Furthermore, as we saw earlier, multiplying by $\\mathbf{A}^{-1}$ can suffer from roundoff errors. Python offers a function `np.linalg.solve(A, b)` which is faster and more stable."
      ],
      "metadata": {
        "id": "qaL2CRrGIDV_"
      }
    },
    {
      "cell_type": "code",
      "source": [
        "# x + y + z = 2\n",
        "# 3x - 2y + 4z = 1\n",
        "# -2x + 4y - z = 3\n",
        "\n",
        "A = np.array([\n",
        "    [1, 1, 1],\n",
        "    [3, -2, 4],\n",
        "    [-2, 4, -1]\n",
        "])\n",
        "\n",
        "b = np.array([2, 1, 3])\n",
        "\n",
        "x = np.linalg.solve(A, b)\n",
        "\n",
        "print(\"x=solve(A,b):\", x)\n",
        "print(\"x=A^(-1)@b:\", np.linalg.inv(A) @ b)\n",
        "\n",
        "print(\"A@x:\", A @ x)\n",
        "print(\"b:\", b)"
      ],
      "metadata": {
        "colab": {
          "base_uri": "https://localhost:8080/"
        },
        "id": "YnvmuxNbRDhN",
        "outputId": "25658728-6177-4b62-848f-032e59edd919"
      },
      "execution_count": null,
      "outputs": [
        {
          "output_type": "stream",
          "name": "stdout",
          "text": [
            "x=solve(A,b): [0.45454545 1.09090909 0.45454545]\n",
            "x=A^(-1)@b: [0.45454545 1.09090909 0.45454545]\n",
            "A@x: [2. 1. 3.]\n",
            "b: [2 1 3]\n"
          ]
        }
      ]
    },
    {
      "cell_type": "markdown",
      "source": [
        "### Tall matrix ($m > n$)\n",
        "\n",
        "If $\\mathbf{A}$ is a tall matrix, then we have $m$ equations and $n$ unknowns, so we have $m-n$ extra equations. This means that the system generally won't have a solution.\n",
        "\n",
        "\\begin{gather*}\n",
        "\\mathbf{Ax}\n",
        "= \\begin{bmatrix}\n",
        "a_{0,0}x_{0} + a_{0,1}x_{1} + \\ldots + a_{0,n-1}x_{n-1} \\\\\n",
        "a_{1,0}x_{0} + a_{1,1}x_{1} + \\ldots + a_{1,n-1}x_{n-1} \\\\\n",
        "\\vdots \\\\\n",
        "a_{m-1,0}x_{0} + a_{m-1,1}x_{1} + \\ldots + a_{m-1,n-1}x_{n-1} \\\\\n",
        "\\end{bmatrix}\n",
        "= \\begin{bmatrix} b_0 \\\\ b_1 \\\\ \\vdots \\\\ b_{m-1} \\end{bmatrix}\n",
        "\\end{gather*}\n",
        "\n",
        "Instead, we can look for the vector $\\mathbf{x} \\in \\mathbb{R}^{n}$ such that $\\mathbf{Ax} \\in \\mathbb{R}^{m}$ is closest to $\\mathbf{b} \\in \\mathbb{R}^{m}$. One way to define closeness is the magnitude of the error $\\| \\mathbf{Ax} - \\mathbf{b} \\|$. The value of $\\mathbf{x}$ that minimizes this quantity is called the least-squares solution.\n",
        "\n",
        "Python has a function `np.linalg.lstsq(A, b)` to compute the least-squares solution to a tall system:"
      ],
      "metadata": {
        "id": "Vtk-wYMCZ2jJ"
      }
    },
    {
      "cell_type": "code",
      "source": [
        "# x + y + z = 2\n",
        "# 3x - 2y + 4z = 1\n",
        "# -2x + 4y - z = 3\n",
        "# 2x + y + 2z = 4\n",
        "\n",
        "A = np.array([\n",
        "    [1, 1, 1],\n",
        "    [3, -2, 4],\n",
        "    [-2, 4, -1],\n",
        "    [2, 1, 2]\n",
        "])\n",
        "\n",
        "b = np.array([2, 1, 3, 4])\n",
        "\n",
        "# numpy complains if we don't pass rcond=None\n",
        "# np.linalg.lstsq returns a tuple where the vector x is the first element\n",
        "x = np.linalg.lstsq(A, b, rcond=None)[0]\n",
        "\n",
        "print(\"x:\", x)\n",
        "\n",
        "print(\"A@x:\", A @ x)\n",
        "print(\"b:\", b)\n",
        "\n",
        "print(\"A@x-b:\", A @ x - b)\n",
        "print(\"||A@x-b||:\", np.linalg.norm(A @ x - b))"
      ],
      "metadata": {
        "colab": {
          "base_uri": "https://localhost:8080/"
        },
        "id": "bZaxlCtYbPTk",
        "outputId": "0e977593-aedf-4737-8364-71804d25295b"
      },
      "execution_count": null,
      "outputs": [
        {
          "output_type": "stream",
          "name": "stdout",
          "text": [
            "x: [1.08737864 1.31067961 0.09708738]\n",
            "A@x: [2.49514563 1.02912621 2.97087379 3.67961165]\n",
            "b: [2 1 3 4]\n",
            "A@x-b: [ 0.49514563  0.02912621 -0.02912621 -0.32038835]\n",
            "||A@x-b||: 0.5911975668985757\n"
          ]
        }
      ]
    },
    {
      "cell_type": "markdown",
      "source": [
        "### Wide matrix ($m < n$)\n",
        "\n",
        "If $\\mathbf{A}$ is a wide matrix, then we have $n-m$ extra unknowns. This means that the system will generally have infinite solutions. In this case we can look for the solution $\\mathbf{x}$ with the smallest magnitude $\\| \\mathbf{x} \\|$.\n",
        "\n",
        "Note: This is also referred to as the least-squares solution which can cause confusion. It depends on the context of whether $\\mathbf{A}$ is tall or wide.\n",
        "\n",
        "In Python we use the same function `np.linalg.lstsq(A, b)`:"
      ],
      "metadata": {
        "id": "-dizjmPXcsR1"
      }
    },
    {
      "cell_type": "code",
      "source": [
        "# x + y + z = 2\n",
        "# 3x - 2y + 4z = 1\n",
        "\n",
        "A = np.array([\n",
        "    [1, 1, 1],\n",
        "    [3, -2, 4]\n",
        "])\n",
        "\n",
        "b = np.array([2, 1])\n",
        "\n",
        "# numpy complains if we don't pass rcond=None\n",
        "# np.linalg.lstsq returns a tuple where the vector x is the first element\n",
        "x = np.linalg.lstsq(A, b, rcond=None)[0]\n",
        "\n",
        "print(\"x:\", x)\n",
        "print(\"||x||:\", np.linalg.norm(x))\n",
        "print(\"A@x:\", A @ x)\n",
        "print(\"b:\", b)\n",
        "\n",
        "# -6 + 1 + 5 = 0\n",
        "# 3(-6) - 2(1) + 4(5) = 0\n",
        "# so y = x + [-6, 1, 5] is also a solution\n",
        "y = x + np.array([-6, 1, 5])\n",
        "\n",
        "print()\n",
        "print(\"y:\", y)\n",
        "print(\"||y||:\", np.linalg.norm(y))\n",
        "print(\"A@y:\", A @ y)\n",
        "print(\"b:\", b)"
      ],
      "metadata": {
        "colab": {
          "base_uri": "https://localhost:8080/"
        },
        "id": "RpU8Os8Sdz9x",
        "outputId": "f41b89a2-3362-4b88-b02e-e2e93f0886bf"
      },
      "execution_count": null,
      "outputs": [
        {
          "output_type": "stream",
          "name": "stdout",
          "text": [
            "x: [0.51612903 1.08064516 0.40322581]\n",
            "||x||: 1.2636353087613494\n",
            "A@x: [2. 1.]\n",
            "b: [2 1]\n",
            "\n",
            "y: [-5.48387097  2.08064516  5.40322581]\n",
            "||y||: 7.974758566473871\n",
            "A@y: [2. 1.]\n",
            "b: [2 1]\n"
          ]
        }
      ]
    }
  ]
}