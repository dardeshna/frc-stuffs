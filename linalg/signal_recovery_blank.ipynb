{
  "nbformat": 4,
  "nbformat_minor": 0,
  "metadata": {
    "colab": {
      "provenance": [],
      "authorship_tag": "ABX9TyNG8WppmNY5Lk5GSftKSQav",
      "include_colab_link": true
    },
    "kernelspec": {
      "name": "python3",
      "display_name": "Python 3"
    },
    "language_info": {
      "name": "python"
    }
  },
  "cells": [
    {
      "cell_type": "markdown",
      "metadata": {
        "id": "view-in-github",
        "colab_type": "text"
      },
      "source": [
        "<a href=\"https://colab.research.google.com/github/dardeshna/frc-stuffs/blob/master/linalg/signal_recovery_blank.ipynb\" target=\"_parent\"><img src=\"https://colab.research.google.com/assets/colab-badge.svg\" alt=\"Open In Colab\"/></a>"
      ]
    },
    {
      "cell_type": "markdown",
      "source": [
        "# Signal Recovery\n",
        "\n",
        "In signal processing a common task is to extract the underlying signal from a noisy input. In this notebook we will explore how this can be done using a least squares approach."
      ],
      "metadata": {
        "id": "vc6yppVk7E1w"
      }
    },
    {
      "cell_type": "code",
      "execution_count": null,
      "metadata": {
        "id": "htgOcC-IZ2Kz"
      },
      "outputs": [],
      "source": [
        "# setup\n",
        "import numpy as np\n",
        "import pandas as pd\n",
        "import matplotlib.pyplot as plt\n",
        "\n",
        "np.random.seed(0)\n",
        "%config InlineBackend.figure_formats = ['svg']\n",
        "plt.style.use('default')"
      ]
    },
    {
      "cell_type": "markdown",
      "source": [
        "## Generating a noisy signal\n",
        "\n",
        "First we need to generate a test signal for us to denoise. To keep things simple we will stick with a signal that is composed of two sinusoids with different frequencies ($f$), amplitude ($A$) and phase ($\\phi$).\n",
        "\n",
        "\\begin{gather*}\n",
        "s(t)=A_1\\cos(2\\pi f_1 t + \\phi_1)+A_2\\cos(2\\pi f_2 t + \\phi_2)\n",
        "\\end{gather*}"
      ],
      "metadata": {
        "id": "3LULBb209gfU"
      }
    },
    {
      "cell_type": "code",
      "source": [
        "# length of signal and number of samples\n",
        "\n",
        "# array of timestamps\n",
        "\n",
        "# properties for each sinusoid\n",
        "\n",
        "# calculate the signal by summing the two sinusoids\n",
        "\n",
        "# plot the signal\n"
      ],
      "metadata": {
        "id": "SWc4LiuU9gNk"
      },
      "execution_count": null,
      "outputs": []
    },
    {
      "cell_type": "markdown",
      "source": [
        "Next we will add some noise to our signal. We can do this using `np.random.normal()` which generates random data from a normal distribution $\\mathcal{N}(0, \\sigma)$. Here, $\\sigma$ is the standard deviation of the random data, which measures how spread out it is. Roughly 68% of the data will be smaller in magnitude than $\\sigma$ and we can set it using the `scale` parameter."
      ],
      "metadata": {
        "id": "jhJeVP1D_WQn"
      }
    },
    {
      "cell_type": "code",
      "source": [
        "# add random noise to signal\n",
        "\n",
        "# plot noisy signal over original signal\n"
      ],
      "metadata": {
        "id": "soZzIueabctJ"
      },
      "execution_count": null,
      "outputs": []
    },
    {
      "cell_type": "markdown",
      "source": [
        "## Recovering the original signal\n",
        "\n",
        "Now that we have our noisy signal, how do we recover it? We will make the assumption that our signal is made up of some combination of sinusoids. This may seem arbitrary, but it turns out every signal can replicated by adding enough sinusoids of different frequencies together.\n",
        "\n",
        "First, we can use the noisy signal timestamps to generate sinusoids $\\cos(2\\pi f_i t)$ and $\\sin(2\\pi f_i t)$ for a range of frequencies. We generate both a cosine and sine wave because we don't know the phase of $f_i$ present in the original signal. The cosine wave leads the sine wave by 90°, so we can add different amounts of these two sinusoids to generate a new sinusoid with frequency $f_i$ and arbitrary phase.\n",
        "\n",
        "Once we've generated sinusoids for each frequency we can set up a system of equations to solve for the relative contribution of each sinusoid.\n",
        "\n",
        "\\begin{gather*}\n",
        "\\mathbf{Ax} =\n",
        "\\begin{bmatrix}\n",
        "1 & \\cos(2\\pi f_0 t_0) & \\sin(2\\pi f_0 t_0) & \\dots & \\cos(2\\pi f_{n-1} t_0) & \\cos(2\\pi f_{n-1} t_0) \\\\\n",
        "\\vdots & \\vdots & \\vdots & \\vdots & \\vdots & \\vdots \\\\\n",
        "1 & \\cos(2\\pi f_0 t_{m-1}) & \\sin(2\\pi f_0 t_{m-1}) & \\dots & \\cos(2\\pi f_{n-1} t_{m-1}) & \\cos(2\\pi f_{n-1} t_{m-1}) \\\\\n",
        "\\end{bmatrix}\n",
        "\\begin{bmatrix}\n",
        "X \\\\ C_0 \\\\ S_0 \\\\ \\vdots \\\\ C_{n-1} \\\\ S_{n-1} \\\\\n",
        "\\end{bmatrix}\n",
        "= \\begin{bmatrix} s(t_0) \\\\ \\vdots \\\\ s(t_{m-1}) \\end{bmatrix}\n",
        "= \\mathbf{b}\n",
        "\\end{gather*}\n",
        "\n",
        "Note: We add a column of ones at the beginning to capture any DC component the original signal might have. In other words, the the signal might be centered around a non-zero value. This will get picked up by this first column and the corresponding variable $X$.\n",
        "\n",
        "Given $m$ timestamps, we will select $n$ frequencies where $2n+1<m$. This means that there are more unknowns than equations and $\\mathbf{A}$ is a tall matrix. While there is no exact solution for $\\mathbf{x}$, we can use `np.linalg.lstsq(A, b)` to solve for an $\\mathbf{x}$ that minimizes the error $\\| \\mathbf{Ax}-\\mathbf{b} \\|$."
      ],
      "metadata": {
        "id": "rT6sQ6YUB0QV"
      }
    },
    {
      "cell_type": "code",
      "source": [
        "# construct a range of frequencies\n",
        "\n",
        "# initialize matrix and fill first column wih ones\n",
        "\n",
        "# fill each column with the corresponding sinusoid\n",
        "\n",
        "# solve for the relative contributions of each column\n"
      ],
      "metadata": {
        "id": "psJcDqo5crYD"
      },
      "execution_count": null,
      "outputs": []
    },
    {
      "cell_type": "markdown",
      "source": [
        "Now we have the relative contributions of sine ($S_i$) and cosine ($C_i$) for each $f_i$. However, to make these values more interpretable we can transform each pair $(S_i, C_i)$ to amplitude and phase $(A_i, \\phi_i)$ of a shifted cosine. The formulas are as follows:\n",
        "\n",
        "\\begin{gather*}\n",
        "A_i=\\sqrt{S_i^2+C_i^2} \\\\\n",
        "\\phi_i = \\mathrm{arctan2}(-S_i, C_i)\n",
        "\\end{gather*}"
      ],
      "metadata": {
        "id": "Ka1Annl2IOXF"
      }
    },
    {
      "cell_type": "code",
      "source": [
        "# initialize amplitude and phase arrays\n",
        "\n",
        "# calculate amplitude and phase for each frequency using formulas from above\n"
      ],
      "metadata": {
        "id": "5rye05J2nQDL"
      },
      "execution_count": null,
      "outputs": []
    },
    {
      "cell_type": "markdown",
      "source": [
        "Next we can plot the amplitude and phase for each frequency and see if the ampliude and phase of the frequencies from the original signal match the recovered values."
      ],
      "metadata": {
        "id": "MBdlnXPGJ6AN"
      }
    },
    {
      "cell_type": "code",
      "source": [
        "# iterate through frequencies and highlight frequencies in original signal\n"
      ],
      "metadata": {
        "id": "ngm2OW6ndaR8"
      },
      "execution_count": null,
      "outputs": []
    },
    {
      "cell_type": "code",
      "source": [
        "# iterate through frequencies and highlight frequencies in original signal\n"
      ],
      "metadata": {
        "id": "ZeC810BKgGrF"
      },
      "execution_count": null,
      "outputs": []
    },
    {
      "cell_type": "markdown",
      "source": [
        "Finally we can construct our recovered signal! We will only include the frequency components with an amplitude above a certain threshold."
      ],
      "metadata": {
        "id": "t0d_RDZGKH1G"
      }
    },
    {
      "cell_type": "code",
      "source": [
        "# amplitude threshold to include frequency component\n",
        "\n",
        "# initialize recovered signal\n",
        "\n",
        "# add cos(2*pi*f*t + phi) to the recovered signal for each frequency with amplitude above the threshold\n",
        "\n",
        "# plot original and recovered signal\n"
      ],
      "metadata": {
        "id": "TuU8h8BFnzD_"
      },
      "execution_count": null,
      "outputs": []
    },
    {
      "cell_type": "markdown",
      "source": [
        "## Bonus: Relationship to DFT\n",
        "\n",
        "It turns out that the amplitude and phase for each frequency found by least squares are the same amplitude and phase given by the Discrete Fourier Transform (DFT). The DFT is a method to decompose any signal into its spectral components, which is exactly what we are doing here. For more information on the DFT, which is widely used in engineering, check out the wikipedia page:\n",
        "\n",
        "https://en.wikipedia.org/wiki/Discrete_Fourier_transform"
      ],
      "metadata": {
        "id": "8Ljpc81dMfog"
      }
    },
    {
      "cell_type": "code",
      "source": [
        "# compute the fft (returns a complex number for each frequency)\n",
        "# forward normalization divides the result by 1/n so that the amplitudes are correct\n",
        "\n",
        "# compute amplitude and phase of complex fft coefficients\n",
        "\n",
        "# print results from least squares and fft\n"
      ],
      "metadata": {
        "id": "G-0wjeZFM4SO"
      },
      "execution_count": null,
      "outputs": []
    }
  ]
}