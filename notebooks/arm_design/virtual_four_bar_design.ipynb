{
  "nbformat": 4,
  "nbformat_minor": 0,
  "metadata": {
    "colab": {
      "provenance": [],
      "toc_visible": true,
      "authorship_tag": "ABX9TyMD2ExPOfyvTX68uNCoYZEq",
      "include_colab_link": true
    },
    "kernelspec": {
      "name": "python3",
      "display_name": "Python 3"
    },
    "language_info": {
      "name": "python"
    }
  },
  "cells": [
    {
      "cell_type": "markdown",
      "metadata": {
        "id": "view-in-github",
        "colab_type": "text"
      },
      "source": [
        "<a href=\"https://colab.research.google.com/github/dardeshna/frc-stuffs/blob/master/notebooks/arm_design/virtual_four_bar_design.ipynb\" target=\"_parent\"><img src=\"https://colab.research.google.com/assets/colab-badge.svg\" alt=\"Open In Colab\"/></a>"
      ]
    },
    {
      "cell_type": "markdown",
      "source": [
        "# Virtual Four Bar Design"
      ],
      "metadata": {
        "id": "tapPE8HCdFAD"
      }
    },
    {
      "cell_type": "code",
      "source": [
        "# setup\n",
        "from math import sin, cos, pi\n",
        "\n",
        "import numpy as np\n",
        "import scipy.optimize\n",
        "import scipy.interpolate\n",
        "\n",
        "from matplotlib import pyplot as plt\n",
        "%config InlineBackend.figure_formats = ['svg']\n",
        "plt.style.use('default')"
      ],
      "metadata": {
        "id": "xqvJN2ArGwWf"
      },
      "execution_count": null,
      "outputs": []
    },
    {
      "cell_type": "markdown",
      "source": [
        "## Design parameters"
      ],
      "metadata": {
        "id": "JujaAN_IdISc"
      }
    },
    {
      "cell_type": "code",
      "source": [
        "# target manipulator positions\n",
        "intake = (-4, 0)\n",
        "mid = (22.75, 34)\n",
        "high = (39.75, 46)\n",
        "\n",
        "# wrist geometry\n",
        "wrist_to_cone_center = 8\n",
        "cone_center_to_bottom = 9\n",
        "\n",
        "# starting config\n",
        "starting_config_front = -3\n",
        "starting_config_back = -27\n",
        "starting_config_height = 54\n",
        "\n",
        "# cone tilt\n",
        "cone_tilt_min = 20\n",
        "cone_tilt_max = 40\n",
        "\n",
        "# pivot bounds\n",
        "x0_min = -27\n",
        "x0_max = -3\n",
        "y0_min = 3\n",
        "y0_max = 54\n",
        "\n",
        "# arm length bounds\n",
        "l1_min = 10\n",
        "l1_max = 100\n",
        "l2_min = 10\n",
        "l2_max = 100\n",
        "\n",
        "# virtual four bar ratio bounds\n",
        "G_min = 0.2\n",
        "G_max = 5"
      ],
      "metadata": {
        "id": "VI9rfRiGV69j"
      },
      "execution_count": null,
      "outputs": []
    },
    {
      "cell_type": "markdown",
      "source": [
        "## Plotting utils"
      ],
      "metadata": {
        "id": "SbRucghfdK-W"
      }
    },
    {
      "cell_type": "code",
      "execution_count": null,
      "metadata": {
        "id": "yEz9OmFvBDKW"
      },
      "outputs": [],
      "source": [
        "def plot_env():\n",
        "\n",
        "    plt.gca().axis('equal')\n",
        "\n",
        "    plt.plot(*mid, 'ko')\n",
        "    plt.plot(*high, 'ko')\n",
        "    plt.plot(*intake, 'ko')\n",
        "\n",
        "    plt.plot(\n",
        "        [starting_config_front, starting_config_front, starting_config_back, starting_config_back],\n",
        "        [0, starting_config_height, starting_config_height, 0],\n",
        "        '--',\n",
        "        color='lightgrey'\n",
        "    )\n",
        "\n",
        "    plt.plot(\n",
        "        [x0_min, x0_min, x0_max, x0_max, x0_min],\n",
        "        [y0_min, y0_max, y0_max, y0_min, y0_min],\n",
        "        '--',\n",
        "        color='lightgrey'\n",
        "    )\n",
        "\n",
        "\n",
        "def plot_config(x0, y0, l1, l2, theta1, theta2, theta3, armspec='b-', jointspec='ro'):\n",
        "\n",
        "    x = np.array([\n",
        "        x0,\n",
        "        x1 := x0 + l1 * cos(theta1),\n",
        "        x2 := x1 + l2 * cos(theta1 + theta2),\n",
        "        x3 := x2 + wrist_to_cone_center * cos(theta1 + theta2 + theta3),\n",
        "        x4 := x3 + cone_center_to_bottom * cos(theta1 + theta2 + theta3 - pi/2),\n",
        "    ])\n",
        "\n",
        "    y = np.array([\n",
        "        y0,\n",
        "        y1 := y0 + l1 * sin(theta1),\n",
        "        y2 := y1 + l2 * sin(theta1 + theta2),\n",
        "        y3 := y2 + wrist_to_cone_center * sin(theta1 + theta2 + theta3),\n",
        "        y4 := y3 + cone_center_to_bottom * sin(theta1 + theta2 + theta3 - pi/2),\n",
        "    ])\n",
        "    \n",
        "    plt.plot(x, y, armspec)\n",
        "    plt.plot(x[[0,1,2,4]], y[[0,1,2,4]], jointspec)"
      ]
    },
    {
      "cell_type": "code",
      "source": [
        "# example configuration\n",
        "\n",
        "plt.figure()\n",
        "\n",
        "plot_env()\n",
        "plot_config(-20, 3, 40, 30, np.radians(60), np.radians(-50), np.radians(45), 'b-', 'ro')\n",
        "\n",
        "plt.show()"
      ],
      "metadata": {
        "colab": {
          "base_uri": "https://localhost:8080/",
          "height": 417
        },
        "id": "yGYzppTVX6K3",
        "outputId": "83b80b6c-656a-407b-ca1c-426ecf09f93c"
      },
      "execution_count": null,
      "outputs": [
        {
          "output_type": "display_data",
          "data": {
            "text/plain": [
              "<Figure size 640x480 with 1 Axes>"
            ],
            "image/svg+xml": "<?xml version=\"1.0\" encoding=\"utf-8\" standalone=\"no\"?>\n<!DOCTYPE svg PUBLIC \"-//W3C//DTD SVG 1.1//EN\"\n  \"http://www.w3.org/Graphics/SVG/1.1/DTD/svg11.dtd\">\n<!-- Created with matplotlib (https://matplotlib.org/) -->\n<svg height=\"297.190125pt\" version=\"1.1\" viewBox=\"0 0 391.245 297.190125\" width=\"391.245pt\" xmlns=\"http://www.w3.org/2000/svg\" xmlns:xlink=\"http://www.w3.org/1999/xlink\">\n <defs>\n  <style type=\"text/css\">\n*{stroke-linecap:butt;stroke-linejoin:round;}\n  </style>\n </defs>\n <g id=\"figure_1\">\n  <g id=\"patch_1\">\n   <path d=\"M 0 297.190125 \nL 391.245 297.190125 \nL 391.245 0 \nL 0 0 \nz\n\" style=\"fill:#ffffff;\"/>\n  </g>\n  <g id=\"axes_1\">\n   <g id=\"patch_2\">\n    <path d=\"M 26.925 273.312 \nL 384.045 273.312 \nL 384.045 7.2 \nL 26.925 7.2 \nz\n\" style=\"fill:#ffffff;\"/>\n   </g>\n   <g id=\"matplotlib.axis_1\">\n    <g id=\"xtick_1\">\n     <g id=\"line2d_1\">\n      <defs>\n       <path d=\"M 0 0 \nL 0 3.5 \n\" id=\"mb33891aae4\" style=\"stroke:#000000;stroke-width:0.8;\"/>\n      </defs>\n      <g>\n       <use style=\"stroke:#000000;stroke-width:0.8;\" x=\"38.593324\" xlink:href=\"#mb33891aae4\" y=\"273.312\"/>\n      </g>\n     </g>\n     <g id=\"text_1\">\n      <!-- −30 -->\n      <defs>\n       <path d=\"M 10.59375 35.5 \nL 73.1875 35.5 \nL 73.1875 27.203125 \nL 10.59375 27.203125 \nz\n\" id=\"DejaVuSans-8722\"/>\n       <path d=\"M 40.578125 39.3125 \nQ 47.65625 37.796875 51.625 33 \nQ 55.609375 28.21875 55.609375 21.1875 \nQ 55.609375 10.40625 48.1875 4.484375 \nQ 40.765625 -1.421875 27.09375 -1.421875 \nQ 22.515625 -1.421875 17.65625 -0.515625 \nQ 12.796875 0.390625 7.625 2.203125 \nL 7.625 11.71875 \nQ 11.71875 9.328125 16.59375 8.109375 \nQ 21.484375 6.890625 26.8125 6.890625 \nQ 36.078125 6.890625 40.9375 10.546875 \nQ 45.796875 14.203125 45.796875 21.1875 \nQ 45.796875 27.640625 41.28125 31.265625 \nQ 36.765625 34.90625 28.71875 34.90625 \nL 20.21875 34.90625 \nL 20.21875 43.015625 \nL 29.109375 43.015625 \nQ 36.375 43.015625 40.234375 45.921875 \nQ 44.09375 48.828125 44.09375 54.296875 \nQ 44.09375 59.90625 40.109375 62.90625 \nQ 36.140625 65.921875 28.71875 65.921875 \nQ 24.65625 65.921875 20.015625 65.03125 \nQ 15.375 64.15625 9.8125 62.3125 \nL 9.8125 71.09375 \nQ 15.4375 72.65625 20.34375 73.4375 \nQ 25.25 74.21875 29.59375 74.21875 \nQ 40.828125 74.21875 47.359375 69.109375 \nQ 53.90625 64.015625 53.90625 55.328125 \nQ 53.90625 49.265625 50.4375 45.09375 \nQ 46.96875 40.921875 40.578125 39.3125 \nz\n\" id=\"DejaVuSans-51\"/>\n       <path d=\"M 31.78125 66.40625 \nQ 24.171875 66.40625 20.328125 58.90625 \nQ 16.5 51.421875 16.5 36.375 \nQ 16.5 21.390625 20.328125 13.890625 \nQ 24.171875 6.390625 31.78125 6.390625 \nQ 39.453125 6.390625 43.28125 13.890625 \nQ 47.125 21.390625 47.125 36.375 \nQ 47.125 51.421875 43.28125 58.90625 \nQ 39.453125 66.40625 31.78125 66.40625 \nz\nM 31.78125 74.21875 \nQ 44.046875 74.21875 50.515625 64.515625 \nQ 56.984375 54.828125 56.984375 36.375 \nQ 56.984375 17.96875 50.515625 8.265625 \nQ 44.046875 -1.421875 31.78125 -1.421875 \nQ 19.53125 -1.421875 13.0625 8.265625 \nQ 6.59375 17.96875 6.59375 36.375 \nQ 6.59375 54.828125 13.0625 64.515625 \nQ 19.53125 74.21875 31.78125 74.21875 \nz\n\" id=\"DejaVuSans-48\"/>\n      </defs>\n      <g transform=\"translate(28.04098 287.910437)scale(0.1 -0.1)\">\n       <use xlink:href=\"#DejaVuSans-8722\"/>\n       <use x=\"83.789062\" xlink:href=\"#DejaVuSans-51\"/>\n       <use x=\"147.412109\" xlink:href=\"#DejaVuSans-48\"/>\n      </g>\n     </g>\n    </g>\n    <g id=\"xtick_2\">\n     <g id=\"line2d_2\">\n      <g>\n       <use style=\"stroke:#000000;stroke-width:0.8;\" x=\"83.393324\" xlink:href=\"#mb33891aae4\" y=\"273.312\"/>\n      </g>\n     </g>\n     <g id=\"text_2\">\n      <!-- −20 -->\n      <defs>\n       <path d=\"M 19.1875 8.296875 \nL 53.609375 8.296875 \nL 53.609375 0 \nL 7.328125 0 \nL 7.328125 8.296875 \nQ 12.9375 14.109375 22.625 23.890625 \nQ 32.328125 33.6875 34.8125 36.53125 \nQ 39.546875 41.84375 41.421875 45.53125 \nQ 43.3125 49.21875 43.3125 52.78125 \nQ 43.3125 58.59375 39.234375 62.25 \nQ 35.15625 65.921875 28.609375 65.921875 \nQ 23.96875 65.921875 18.8125 64.3125 \nQ 13.671875 62.703125 7.8125 59.421875 \nL 7.8125 69.390625 \nQ 13.765625 71.78125 18.9375 73 \nQ 24.125 74.21875 28.421875 74.21875 \nQ 39.75 74.21875 46.484375 68.546875 \nQ 53.21875 62.890625 53.21875 53.421875 \nQ 53.21875 48.921875 51.53125 44.890625 \nQ 49.859375 40.875 45.40625 35.40625 \nQ 44.1875 33.984375 37.640625 27.21875 \nQ 31.109375 20.453125 19.1875 8.296875 \nz\n\" id=\"DejaVuSans-50\"/>\n      </defs>\n      <g transform=\"translate(72.84098 287.910437)scale(0.1 -0.1)\">\n       <use xlink:href=\"#DejaVuSans-8722\"/>\n       <use x=\"83.789062\" xlink:href=\"#DejaVuSans-50\"/>\n       <use x=\"147.412109\" xlink:href=\"#DejaVuSans-48\"/>\n      </g>\n     </g>\n    </g>\n    <g id=\"xtick_3\">\n     <g id=\"line2d_3\">\n      <g>\n       <use style=\"stroke:#000000;stroke-width:0.8;\" x=\"128.193324\" xlink:href=\"#mb33891aae4\" y=\"273.312\"/>\n      </g>\n     </g>\n     <g id=\"text_3\">\n      <!-- −10 -->\n      <defs>\n       <path d=\"M 12.40625 8.296875 \nL 28.515625 8.296875 \nL 28.515625 63.921875 \nL 10.984375 60.40625 \nL 10.984375 69.390625 \nL 28.421875 72.90625 \nL 38.28125 72.90625 \nL 38.28125 8.296875 \nL 54.390625 8.296875 \nL 54.390625 0 \nL 12.40625 0 \nz\n\" id=\"DejaVuSans-49\"/>\n      </defs>\n      <g transform=\"translate(117.64098 287.910437)scale(0.1 -0.1)\">\n       <use xlink:href=\"#DejaVuSans-8722\"/>\n       <use x=\"83.789062\" xlink:href=\"#DejaVuSans-49\"/>\n       <use x=\"147.412109\" xlink:href=\"#DejaVuSans-48\"/>\n      </g>\n     </g>\n    </g>\n    <g id=\"xtick_4\">\n     <g id=\"line2d_4\">\n      <g>\n       <use style=\"stroke:#000000;stroke-width:0.8;\" x=\"172.993324\" xlink:href=\"#mb33891aae4\" y=\"273.312\"/>\n      </g>\n     </g>\n     <g id=\"text_4\">\n      <!-- 0 -->\n      <g transform=\"translate(169.812074 287.910437)scale(0.1 -0.1)\">\n       <use xlink:href=\"#DejaVuSans-48\"/>\n      </g>\n     </g>\n    </g>\n    <g id=\"xtick_5\">\n     <g id=\"line2d_5\">\n      <g>\n       <use style=\"stroke:#000000;stroke-width:0.8;\" x=\"217.793324\" xlink:href=\"#mb33891aae4\" y=\"273.312\"/>\n      </g>\n     </g>\n     <g id=\"text_5\">\n      <!-- 10 -->\n      <g transform=\"translate(211.430824 287.910437)scale(0.1 -0.1)\">\n       <use xlink:href=\"#DejaVuSans-49\"/>\n       <use x=\"63.623047\" xlink:href=\"#DejaVuSans-48\"/>\n      </g>\n     </g>\n    </g>\n    <g id=\"xtick_6\">\n     <g id=\"line2d_6\">\n      <g>\n       <use style=\"stroke:#000000;stroke-width:0.8;\" x=\"262.593324\" xlink:href=\"#mb33891aae4\" y=\"273.312\"/>\n      </g>\n     </g>\n     <g id=\"text_6\">\n      <!-- 20 -->\n      <g transform=\"translate(256.230824 287.910437)scale(0.1 -0.1)\">\n       <use xlink:href=\"#DejaVuSans-50\"/>\n       <use x=\"63.623047\" xlink:href=\"#DejaVuSans-48\"/>\n      </g>\n     </g>\n    </g>\n    <g id=\"xtick_7\">\n     <g id=\"line2d_7\">\n      <g>\n       <use style=\"stroke:#000000;stroke-width:0.8;\" x=\"307.393324\" xlink:href=\"#mb33891aae4\" y=\"273.312\"/>\n      </g>\n     </g>\n     <g id=\"text_7\">\n      <!-- 30 -->\n      <g transform=\"translate(301.030824 287.910437)scale(0.1 -0.1)\">\n       <use xlink:href=\"#DejaVuSans-51\"/>\n       <use x=\"63.623047\" xlink:href=\"#DejaVuSans-48\"/>\n      </g>\n     </g>\n    </g>\n    <g id=\"xtick_8\">\n     <g id=\"line2d_8\">\n      <g>\n       <use style=\"stroke:#000000;stroke-width:0.8;\" x=\"352.193324\" xlink:href=\"#mb33891aae4\" y=\"273.312\"/>\n      </g>\n     </g>\n     <g id=\"text_8\">\n      <!-- 40 -->\n      <defs>\n       <path d=\"M 37.796875 64.3125 \nL 12.890625 25.390625 \nL 37.796875 25.390625 \nz\nM 35.203125 72.90625 \nL 47.609375 72.90625 \nL 47.609375 25.390625 \nL 58.015625 25.390625 \nL 58.015625 17.1875 \nL 47.609375 17.1875 \nL 47.609375 0 \nL 37.796875 0 \nL 37.796875 17.1875 \nL 4.890625 17.1875 \nL 4.890625 26.703125 \nz\n\" id=\"DejaVuSans-52\"/>\n      </defs>\n      <g transform=\"translate(345.830824 287.910437)scale(0.1 -0.1)\">\n       <use xlink:href=\"#DejaVuSans-52\"/>\n       <use x=\"63.623047\" xlink:href=\"#DejaVuSans-48\"/>\n      </g>\n     </g>\n    </g>\n   </g>\n   <g id=\"matplotlib.axis_2\">\n    <g id=\"ytick_1\">\n     <g id=\"line2d_9\">\n      <defs>\n       <path d=\"M 0 0 \nL -3.5 0 \n\" id=\"mc04f7d6cb1\" style=\"stroke:#000000;stroke-width:0.8;\"/>\n      </defs>\n      <g>\n       <use style=\"stroke:#000000;stroke-width:0.8;\" x=\"26.925\" xlink:href=\"#mc04f7d6cb1\" y=\"261.216\"/>\n      </g>\n     </g>\n     <g id=\"text_9\">\n      <!-- 0 -->\n      <g transform=\"translate(13.5625 265.015219)scale(0.1 -0.1)\">\n       <use xlink:href=\"#DejaVuSans-48\"/>\n      </g>\n     </g>\n    </g>\n    <g id=\"ytick_2\">\n     <g id=\"line2d_10\">\n      <g>\n       <use style=\"stroke:#000000;stroke-width:0.8;\" x=\"26.925\" xlink:href=\"#mc04f7d6cb1\" y=\"216.416\"/>\n      </g>\n     </g>\n     <g id=\"text_10\">\n      <!-- 10 -->\n      <g transform=\"translate(7.2 220.215219)scale(0.1 -0.1)\">\n       <use xlink:href=\"#DejaVuSans-49\"/>\n       <use x=\"63.623047\" xlink:href=\"#DejaVuSans-48\"/>\n      </g>\n     </g>\n    </g>\n    <g id=\"ytick_3\">\n     <g id=\"line2d_11\">\n      <g>\n       <use style=\"stroke:#000000;stroke-width:0.8;\" x=\"26.925\" xlink:href=\"#mc04f7d6cb1\" y=\"171.616\"/>\n      </g>\n     </g>\n     <g id=\"text_11\">\n      <!-- 20 -->\n      <g transform=\"translate(7.2 175.415219)scale(0.1 -0.1)\">\n       <use xlink:href=\"#DejaVuSans-50\"/>\n       <use x=\"63.623047\" xlink:href=\"#DejaVuSans-48\"/>\n      </g>\n     </g>\n    </g>\n    <g id=\"ytick_4\">\n     <g id=\"line2d_12\">\n      <g>\n       <use style=\"stroke:#000000;stroke-width:0.8;\" x=\"26.925\" xlink:href=\"#mc04f7d6cb1\" y=\"126.816\"/>\n      </g>\n     </g>\n     <g id=\"text_12\">\n      <!-- 30 -->\n      <g transform=\"translate(7.2 130.615219)scale(0.1 -0.1)\">\n       <use xlink:href=\"#DejaVuSans-51\"/>\n       <use x=\"63.623047\" xlink:href=\"#DejaVuSans-48\"/>\n      </g>\n     </g>\n    </g>\n    <g id=\"ytick_5\">\n     <g id=\"line2d_13\">\n      <g>\n       <use style=\"stroke:#000000;stroke-width:0.8;\" x=\"26.925\" xlink:href=\"#mc04f7d6cb1\" y=\"82.016\"/>\n      </g>\n     </g>\n     <g id=\"text_13\">\n      <!-- 40 -->\n      <g transform=\"translate(7.2 85.815219)scale(0.1 -0.1)\">\n       <use xlink:href=\"#DejaVuSans-52\"/>\n       <use x=\"63.623047\" xlink:href=\"#DejaVuSans-48\"/>\n      </g>\n     </g>\n    </g>\n    <g id=\"ytick_6\">\n     <g id=\"line2d_14\">\n      <g>\n       <use style=\"stroke:#000000;stroke-width:0.8;\" x=\"26.925\" xlink:href=\"#mc04f7d6cb1\" y=\"37.216\"/>\n      </g>\n     </g>\n     <g id=\"text_14\">\n      <!-- 50 -->\n      <defs>\n       <path d=\"M 10.796875 72.90625 \nL 49.515625 72.90625 \nL 49.515625 64.59375 \nL 19.828125 64.59375 \nL 19.828125 46.734375 \nQ 21.96875 47.46875 24.109375 47.828125 \nQ 26.265625 48.1875 28.421875 48.1875 \nQ 40.625 48.1875 47.75 41.5 \nQ 54.890625 34.8125 54.890625 23.390625 \nQ 54.890625 11.625 47.5625 5.09375 \nQ 40.234375 -1.421875 26.90625 -1.421875 \nQ 22.3125 -1.421875 17.546875 -0.640625 \nQ 12.796875 0.140625 7.71875 1.703125 \nL 7.71875 11.625 \nQ 12.109375 9.234375 16.796875 8.0625 \nQ 21.484375 6.890625 26.703125 6.890625 \nQ 35.15625 6.890625 40.078125 11.328125 \nQ 45.015625 15.765625 45.015625 23.390625 \nQ 45.015625 31 40.078125 35.4375 \nQ 35.15625 39.890625 26.703125 39.890625 \nQ 22.75 39.890625 18.8125 39.015625 \nQ 14.890625 38.140625 10.796875 36.28125 \nz\n\" id=\"DejaVuSans-53\"/>\n      </defs>\n      <g transform=\"translate(7.2 41.015219)scale(0.1 -0.1)\">\n       <use xlink:href=\"#DejaVuSans-53\"/>\n       <use x=\"63.623047\" xlink:href=\"#DejaVuSans-48\"/>\n      </g>\n     </g>\n    </g>\n   </g>\n   <g id=\"line2d_15\">\n    <defs>\n     <path d=\"M 0 3 \nC 0.795609 3 1.55874 2.683901 2.12132 2.12132 \nC 2.683901 1.55874 3 0.795609 3 0 \nC 3 -0.795609 2.683901 -1.55874 2.12132 -2.12132 \nC 1.55874 -2.683901 0.795609 -3 0 -3 \nC -0.795609 -3 -1.55874 -2.683901 -2.12132 -2.12132 \nC -2.683901 -1.55874 -3 -0.795609 -3 0 \nC -3 0.795609 -2.683901 1.55874 -2.12132 2.12132 \nC -1.55874 2.683901 -0.795609 3 0 3 \nz\n\" id=\"m9fc053fe8e\" style=\"stroke:#000000;\"/>\n    </defs>\n    <g clip-path=\"url(#p7cf5ced263)\">\n     <use style=\"stroke:#000000;\" x=\"274.913324\" xlink:href=\"#m9fc053fe8e\" y=\"108.896\"/>\n    </g>\n   </g>\n   <g id=\"line2d_16\">\n    <g clip-path=\"url(#p7cf5ced263)\">\n     <use style=\"stroke:#000000;\" x=\"351.073324\" xlink:href=\"#m9fc053fe8e\" y=\"55.136\"/>\n    </g>\n   </g>\n   <g id=\"line2d_17\">\n    <g clip-path=\"url(#p7cf5ced263)\">\n     <use style=\"stroke:#000000;\" x=\"155.073324\" xlink:href=\"#m9fc053fe8e\" y=\"261.216\"/>\n    </g>\n   </g>\n   <g id=\"line2d_18\">\n    <path clip-path=\"url(#p7cf5ced263)\" d=\"M 159.553324 261.216 \nL 159.553324 19.296 \nL 52.033324 19.296 \nL 52.033324 261.216 \n\" style=\"fill:none;stroke:#d3d3d3;stroke-dasharray:5.55,2.4;stroke-dashoffset:0;stroke-width:1.5;\"/>\n   </g>\n   <g id=\"line2d_19\">\n    <path clip-path=\"url(#p7cf5ced263)\" d=\"M 52.033324 247.776 \nL 52.033324 19.296 \nL 159.553324 19.296 \nL 159.553324 247.776 \nL 52.033324 247.776 \n\" style=\"fill:none;stroke:#d3d3d3;stroke-dasharray:5.55,2.4;stroke-dashoffset:0;stroke-width:1.5;\"/>\n   </g>\n   <g id=\"line2d_20\">\n    <path clip-path=\"url(#p7cf5ced263)\" d=\"M 83.393324 247.776 \nL 172.993324 92.584248 \nL 305.351486 69.245933 \nL 325.908466 39.887523 \nL 358.936676 63.014125 \n\" style=\"fill:none;stroke:#0000ff;stroke-linecap:square;stroke-width:1.5;\"/>\n   </g>\n   <g id=\"line2d_21\">\n    <defs>\n     <path d=\"M 0 3 \nC 0.795609 3 1.55874 2.683901 2.12132 2.12132 \nC 2.683901 1.55874 3 0.795609 3 0 \nC 3 -0.795609 2.683901 -1.55874 2.12132 -2.12132 \nC 1.55874 -2.683901 0.795609 -3 0 -3 \nC -0.795609 -3 -1.55874 -2.683901 -2.12132 -2.12132 \nC -2.683901 -1.55874 -3 -0.795609 -3 0 \nC -3 0.795609 -2.683901 1.55874 -2.12132 2.12132 \nC -1.55874 2.683901 -0.795609 3 0 3 \nz\n\" id=\"m1381feac91\" style=\"stroke:#ff0000;\"/>\n    </defs>\n    <g clip-path=\"url(#p7cf5ced263)\">\n     <use style=\"fill:#ff0000;stroke:#ff0000;\" x=\"83.393324\" xlink:href=\"#m1381feac91\" y=\"247.776\"/>\n     <use style=\"fill:#ff0000;stroke:#ff0000;\" x=\"172.993324\" xlink:href=\"#m1381feac91\" y=\"92.584248\"/>\n     <use style=\"fill:#ff0000;stroke:#ff0000;\" x=\"305.351486\" xlink:href=\"#m1381feac91\" y=\"69.245933\"/>\n     <use style=\"fill:#ff0000;stroke:#ff0000;\" x=\"358.936676\" xlink:href=\"#m1381feac91\" y=\"63.014125\"/>\n    </g>\n   </g>\n   <g id=\"patch_3\">\n    <path d=\"M 26.925 273.312 \nL 26.925 7.2 \n\" style=\"fill:none;stroke:#000000;stroke-linecap:square;stroke-linejoin:miter;stroke-width:0.8;\"/>\n   </g>\n   <g id=\"patch_4\">\n    <path d=\"M 384.045 273.312 \nL 384.045 7.2 \n\" style=\"fill:none;stroke:#000000;stroke-linecap:square;stroke-linejoin:miter;stroke-width:0.8;\"/>\n   </g>\n   <g id=\"patch_5\">\n    <path d=\"M 26.925 273.312 \nL 384.045 273.312 \n\" style=\"fill:none;stroke:#000000;stroke-linecap:square;stroke-linejoin:miter;stroke-width:0.8;\"/>\n   </g>\n   <g id=\"patch_6\">\n    <path d=\"M 26.925 7.2 \nL 384.045 7.2 \n\" style=\"fill:none;stroke:#000000;stroke-linecap:square;stroke-linejoin:miter;stroke-width:0.8;\"/>\n   </g>\n  </g>\n </g>\n <defs>\n  <clipPath id=\"p7cf5ced263\">\n   <rect height=\"266.112\" width=\"357.12\" x=\"26.925\" y=\"7.2\"/>\n  </clipPath>\n </defs>\n</svg>\n"
          },
          "metadata": {}
        }
      ]
    },
    {
      "cell_type": "markdown",
      "source": [
        "## Optimization problem\n",
        "\n",
        "Forward kinematics:\n",
        "\n",
        "\n",
        "\\begin{gather*}\n",
        "\\begin{bmatrix}\n",
        "x_f \\\\ y_f\n",
        "\\end{bmatrix} = \\begin{bmatrix}\n",
        "x_0 + l_1 \\cos(\\theta_1) + l_2 \\cos(\\theta_1 + \\theta_2) + c \\cos(\\theta_1 + \\theta_2 + \\theta_3) + d \\cos (\\theta_1 + \\theta_2 + \\theta_3 - \\frac{\\pi}{2}) \\\\\n",
        "y_0 + l_1 \\sin(\\theta_1) + l_2 \\sin(\\theta_1 + \\theta_2) + c \\sin(\\theta_1 + \\theta_2 + \\theta_3) + d \\sin (\\theta_1 + \\theta_2 + \\theta_3 - \\frac{\\pi}{2})\n",
        "\\end{bmatrix} \\\\\n",
        "\\theta_2 = -G (\\theta_1 - {\\theta_1}_i) + {\\theta_2}_i\n",
        "\\end{gather*}\n",
        "\n",
        "* $x_0, y_0$: base pivot location\n",
        "* $G$: virtual four bar ratio\n",
        "* $\\theta_1, \\theta_2, \\theta_3$: joint angles\n",
        "* $l_1, l_2$: arm lengths\n",
        "* $c$: distance from wrist pivot to cone centerline\n",
        "* $d$: distance from wrist centerline to cone bottom"
      ],
      "metadata": {
        "id": "UmGQBd_qdRh4"
      }
    },
    {
      "cell_type": "code",
      "source": [
        "def unpack(x):\n",
        "\n",
        "    x0, y0 = x[0], x[1]\n",
        "    l1, l2 = x[2], x[3]\n",
        "\n",
        "    G = x[4]\n",
        "\n",
        "    theta1 = x[5:8]\n",
        "    theta2_offset = x[8]\n",
        "    theta3 = x[9:]\n",
        "\n",
        "    return x0, y0, l1, l2, G, theta1, theta2_offset, theta3\n",
        "\n",
        "def pack(x0, y0, l1, l2, G, theta1, theta2_offset, theta3):\n",
        "    \n",
        "    return np.r_[x0, y0, l1, l2, G, theta1, theta2_offset, theta3]\n",
        "\n",
        "def forward_kinematics(x0, y0, l1, l2, theta1, theta2, theta3):\n",
        "\n",
        "    xf = x0 + l1 * cos(theta1) + l2 * cos(theta1 + theta2) + wrist_to_cone_center * cos(theta1 + theta2 + theta3) + cone_center_to_bottom * cos(theta1 + theta2 + theta3 - pi/2)\n",
        "    yf = y0 + l1 * sin(theta1) + l2 * sin(theta1 + theta2) + wrist_to_cone_center * sin(theta1 + theta2 + theta3) + cone_center_to_bottom * sin(theta1 + theta2 + theta3 - pi/2)\n",
        "\n",
        "    return xf, yf\n",
        "\n",
        "def f(x):\n",
        "\n",
        "    x0, y0, l1, l2, G, theta1, theta2_offset, theta3 = unpack(x)\n",
        "\n",
        "    return x0 # move pivot as far back as possible\n",
        "\n",
        "def c_eq(x):\n",
        "\n",
        "    x0, y0, l1, l2, G, theta1, theta2_offset, theta3 = unpack(x)\n",
        "\n",
        "    theta2 = -G * (theta1 - theta1[0]) + theta2_offset\n",
        "\n",
        "    x_intake, y_intake = forward_kinematics(x0, y0, l1, l2, theta1[0], theta2[0], theta3[0])\n",
        "    x_mid, y_mid = forward_kinematics(x0, y0, l1, l2, theta1[1], theta2[1], theta3[1])\n",
        "    x_high, y_high = forward_kinematics(x0, y0, l1, l2, theta1[2], theta2[2], theta3[2])\n",
        "\n",
        "    return np.r_[\n",
        "        x_intake - intake[0], # intake x\n",
        "        y_intake - intake[1], # intake y\n",
        "        theta1[0] + theta2[0] + theta3[0], # wrist is horizontal when intaking\n",
        "\n",
        "        x_mid - mid[0], # mid x\n",
        "        y_mid - mid[1], # mid y\n",
        "\n",
        "        x_high - high[0], # high x\n",
        "        y_high - high[1], # high y\n",
        "    ]\n",
        "\n",
        "def c_ineq(x):\n",
        "\n",
        "    x0, y0, l1, l2, G, theta1, theta2_offset, theta3 = unpack(x)\n",
        "\n",
        "    theta2 = -G * (theta1 - theta1[0]) + theta2_offset\n",
        "\n",
        "    return np.r_[\n",
        "        theta1[1] + theta2[1] + theta3[1] - np.radians(cone_tilt_min), # mid min cone tilt\n",
        "        np.radians(cone_tilt_max) - (theta1[1] + theta2[1] + theta3[1]), # mid max cone tilt\n",
        "\n",
        "        theta1[2] + theta2[2] + theta3[2] - np.radians(cone_tilt_min), # high min cone tilt\n",
        "        np.radians(cone_tilt_max) - (theta1[2] + theta2[2] + theta3[2]), # high max cone tilt\n",
        "\n",
        "        starting_config_height - (y0 + l1 * sin(theta1[0])), # starting config height limit\n",
        "        starting_config_front - (x0 + l1 * cos(theta1[0])),  # starting config front frame perimeter\n",
        "        x0 + l1 * cos(theta1[0]) - starting_config_back # starting config rear frame perimeter\n",
        "    ]\n",
        "\n",
        "bounds = [\n",
        "    (x0_min, x0_max),\n",
        "    (y0_min, y0_max),\n",
        "    (l1_min, l1_max),\n",
        "    (l2_min, l2_max),\n",
        "    (G_min, G_max),\n",
        "    (0, pi),\n",
        "    (0, pi),\n",
        "    (0, pi),\n",
        "    (np.radians(-360), 0),\n",
        "    (-3*pi/4, 3*pi/4),\n",
        "    (-3*pi/4, 3*pi/4),\n",
        "    (-3*pi/4, 3*pi/4),\n",
        "]"
      ],
      "metadata": {
        "id": "WgSEcAI6HP_L"
      },
      "execution_count": null,
      "outputs": []
    },
    {
      "cell_type": "markdown",
      "source": [
        "Initial guess:"
      ],
      "metadata": {
        "id": "1vSXIfS4dUf1"
      }
    },
    {
      "cell_type": "code",
      "source": [
        "x0_init = -15\n",
        "y0_init = 3\n",
        "l1_init = 35\n",
        "l2_init = 25\n",
        "G_init = 3.5\n",
        "theta1_init = np.array([np.radians(105), np.radians(80), np.radians(70)])\n",
        "theta2_offset_init = np.radians(-170)\n",
        "theta3_init = np.array([np.radians(80), np.radians(45), np.radians(45)])\n",
        "\n",
        "x_init = pack(x0_init, y0_init, l1_init, l2_init, G_init, theta1_init, theta2_offset_init, theta3_init)\n",
        "\n",
        "theta2_init = -G_init * (theta1_init - theta1_init[0]) + theta2_offset_init\n",
        "\n",
        "plt.figure()\n",
        "\n",
        "plot_env()\n",
        "\n",
        "plot_config(x0_init, y0_init, l1_init, l2_init, theta1_init[0], theta2_init[0], theta3_init[0], 'b-', 'ro')\n",
        "plot_config(x0_init, y0_init, l1_init, l2_init, theta1_init[1], theta2_init[1], theta3_init[1], 'g-', 'bo')\n",
        "plot_config(x0_init, y0_init, l1_init, l2_init, theta1_init[2], theta2_init[2], theta3_init[2], 'r-', 'go')\n",
        "\n",
        "plt.show()"
      ],
      "metadata": {
        "colab": {
          "base_uri": "https://localhost:8080/",
          "height": 417
        },
        "id": "MbnXIFNlbPFC",
        "outputId": "2f461b03-6bfc-4636-af27-a50865a9fe68"
      },
      "execution_count": null,
      "outputs": [
        {
          "output_type": "display_data",
          "data": {
            "text/plain": [
              "<Figure size 640x480 with 1 Axes>"
            ],
            "image/svg+xml": "<?xml version=\"1.0\" encoding=\"utf-8\" standalone=\"no\"?>\n<!DOCTYPE svg PUBLIC \"-//W3C//DTD SVG 1.1//EN\"\n  \"http://www.w3.org/Graphics/SVG/1.1/DTD/svg11.dtd\">\n<!-- Created with matplotlib (https://matplotlib.org/) -->\n<svg height=\"297.190125pt\" version=\"1.1\" viewBox=\"0 0 391.245 297.190125\" width=\"391.245pt\" xmlns=\"http://www.w3.org/2000/svg\" xmlns:xlink=\"http://www.w3.org/1999/xlink\">\n <defs>\n  <style type=\"text/css\">\n*{stroke-linecap:butt;stroke-linejoin:round;}\n  </style>\n </defs>\n <g id=\"figure_1\">\n  <g id=\"patch_1\">\n   <path d=\"M 0 297.190125 \nL 391.245 297.190125 \nL 391.245 0 \nL 0 0 \nz\n\" style=\"fill:#ffffff;\"/>\n  </g>\n  <g id=\"axes_1\">\n   <g id=\"patch_2\">\n    <path d=\"M 26.925 273.312 \nL 384.045 273.312 \nL 384.045 7.2 \nL 26.925 7.2 \nz\n\" style=\"fill:#ffffff;\"/>\n   </g>\n   <g id=\"matplotlib.axis_1\">\n    <g id=\"xtick_1\">\n     <g id=\"line2d_1\">\n      <defs>\n       <path d=\"M 0 0 \nL 0 3.5 \n\" id=\"m2f9e0b6339\" style=\"stroke:#000000;stroke-width:0.8;\"/>\n      </defs>\n      <g>\n       <use style=\"stroke:#000000;stroke-width:0.8;\" x=\"42.525\" xlink:href=\"#m2f9e0b6339\" y=\"273.312\"/>\n      </g>\n     </g>\n     <g id=\"text_1\">\n      <!-- −30 -->\n      <defs>\n       <path d=\"M 10.59375 35.5 \nL 73.1875 35.5 \nL 73.1875 27.203125 \nL 10.59375 27.203125 \nz\n\" id=\"DejaVuSans-8722\"/>\n       <path d=\"M 40.578125 39.3125 \nQ 47.65625 37.796875 51.625 33 \nQ 55.609375 28.21875 55.609375 21.1875 \nQ 55.609375 10.40625 48.1875 4.484375 \nQ 40.765625 -1.421875 27.09375 -1.421875 \nQ 22.515625 -1.421875 17.65625 -0.515625 \nQ 12.796875 0.390625 7.625 2.203125 \nL 7.625 11.71875 \nQ 11.71875 9.328125 16.59375 8.109375 \nQ 21.484375 6.890625 26.8125 6.890625 \nQ 36.078125 6.890625 40.9375 10.546875 \nQ 45.796875 14.203125 45.796875 21.1875 \nQ 45.796875 27.640625 41.28125 31.265625 \nQ 36.765625 34.90625 28.71875 34.90625 \nL 20.21875 34.90625 \nL 20.21875 43.015625 \nL 29.109375 43.015625 \nQ 36.375 43.015625 40.234375 45.921875 \nQ 44.09375 48.828125 44.09375 54.296875 \nQ 44.09375 59.90625 40.109375 62.90625 \nQ 36.140625 65.921875 28.71875 65.921875 \nQ 24.65625 65.921875 20.015625 65.03125 \nQ 15.375 64.15625 9.8125 62.3125 \nL 9.8125 71.09375 \nQ 15.4375 72.65625 20.34375 73.4375 \nQ 25.25 74.21875 29.59375 74.21875 \nQ 40.828125 74.21875 47.359375 69.109375 \nQ 53.90625 64.015625 53.90625 55.328125 \nQ 53.90625 49.265625 50.4375 45.09375 \nQ 46.96875 40.921875 40.578125 39.3125 \nz\n\" id=\"DejaVuSans-51\"/>\n       <path d=\"M 31.78125 66.40625 \nQ 24.171875 66.40625 20.328125 58.90625 \nQ 16.5 51.421875 16.5 36.375 \nQ 16.5 21.390625 20.328125 13.890625 \nQ 24.171875 6.390625 31.78125 6.390625 \nQ 39.453125 6.390625 43.28125 13.890625 \nQ 47.125 21.390625 47.125 36.375 \nQ 47.125 51.421875 43.28125 58.90625 \nQ 39.453125 66.40625 31.78125 66.40625 \nz\nM 31.78125 74.21875 \nQ 44.046875 74.21875 50.515625 64.515625 \nQ 56.984375 54.828125 56.984375 36.375 \nQ 56.984375 17.96875 50.515625 8.265625 \nQ 44.046875 -1.421875 31.78125 -1.421875 \nQ 19.53125 -1.421875 13.0625 8.265625 \nQ 6.59375 17.96875 6.59375 36.375 \nQ 6.59375 54.828125 13.0625 64.515625 \nQ 19.53125 74.21875 31.78125 74.21875 \nz\n\" id=\"DejaVuSans-48\"/>\n      </defs>\n      <g transform=\"translate(31.972656 287.910437)scale(0.1 -0.1)\">\n       <use xlink:href=\"#DejaVuSans-8722\"/>\n       <use x=\"83.789062\" xlink:href=\"#DejaVuSans-51\"/>\n       <use x=\"147.412109\" xlink:href=\"#DejaVuSans-48\"/>\n      </g>\n     </g>\n    </g>\n    <g id=\"xtick_2\">\n     <g id=\"line2d_2\">\n      <g>\n       <use style=\"stroke:#000000;stroke-width:0.8;\" x=\"87.325\" xlink:href=\"#m2f9e0b6339\" y=\"273.312\"/>\n      </g>\n     </g>\n     <g id=\"text_2\">\n      <!-- −20 -->\n      <defs>\n       <path d=\"M 19.1875 8.296875 \nL 53.609375 8.296875 \nL 53.609375 0 \nL 7.328125 0 \nL 7.328125 8.296875 \nQ 12.9375 14.109375 22.625 23.890625 \nQ 32.328125 33.6875 34.8125 36.53125 \nQ 39.546875 41.84375 41.421875 45.53125 \nQ 43.3125 49.21875 43.3125 52.78125 \nQ 43.3125 58.59375 39.234375 62.25 \nQ 35.15625 65.921875 28.609375 65.921875 \nQ 23.96875 65.921875 18.8125 64.3125 \nQ 13.671875 62.703125 7.8125 59.421875 \nL 7.8125 69.390625 \nQ 13.765625 71.78125 18.9375 73 \nQ 24.125 74.21875 28.421875 74.21875 \nQ 39.75 74.21875 46.484375 68.546875 \nQ 53.21875 62.890625 53.21875 53.421875 \nQ 53.21875 48.921875 51.53125 44.890625 \nQ 49.859375 40.875 45.40625 35.40625 \nQ 44.1875 33.984375 37.640625 27.21875 \nQ 31.109375 20.453125 19.1875 8.296875 \nz\n\" id=\"DejaVuSans-50\"/>\n      </defs>\n      <g transform=\"translate(76.772656 287.910437)scale(0.1 -0.1)\">\n       <use xlink:href=\"#DejaVuSans-8722\"/>\n       <use x=\"83.789062\" xlink:href=\"#DejaVuSans-50\"/>\n       <use x=\"147.412109\" xlink:href=\"#DejaVuSans-48\"/>\n      </g>\n     </g>\n    </g>\n    <g id=\"xtick_3\">\n     <g id=\"line2d_3\">\n      <g>\n       <use style=\"stroke:#000000;stroke-width:0.8;\" x=\"132.125\" xlink:href=\"#m2f9e0b6339\" y=\"273.312\"/>\n      </g>\n     </g>\n     <g id=\"text_3\">\n      <!-- −10 -->\n      <defs>\n       <path d=\"M 12.40625 8.296875 \nL 28.515625 8.296875 \nL 28.515625 63.921875 \nL 10.984375 60.40625 \nL 10.984375 69.390625 \nL 28.421875 72.90625 \nL 38.28125 72.90625 \nL 38.28125 8.296875 \nL 54.390625 8.296875 \nL 54.390625 0 \nL 12.40625 0 \nz\n\" id=\"DejaVuSans-49\"/>\n      </defs>\n      <g transform=\"translate(121.572656 287.910437)scale(0.1 -0.1)\">\n       <use xlink:href=\"#DejaVuSans-8722\"/>\n       <use x=\"83.789062\" xlink:href=\"#DejaVuSans-49\"/>\n       <use x=\"147.412109\" xlink:href=\"#DejaVuSans-48\"/>\n      </g>\n     </g>\n    </g>\n    <g id=\"xtick_4\">\n     <g id=\"line2d_4\">\n      <g>\n       <use style=\"stroke:#000000;stroke-width:0.8;\" x=\"176.925\" xlink:href=\"#m2f9e0b6339\" y=\"273.312\"/>\n      </g>\n     </g>\n     <g id=\"text_4\">\n      <!-- 0 -->\n      <g transform=\"translate(173.74375 287.910437)scale(0.1 -0.1)\">\n       <use xlink:href=\"#DejaVuSans-48\"/>\n      </g>\n     </g>\n    </g>\n    <g id=\"xtick_5\">\n     <g id=\"line2d_5\">\n      <g>\n       <use style=\"stroke:#000000;stroke-width:0.8;\" x=\"221.725\" xlink:href=\"#m2f9e0b6339\" y=\"273.312\"/>\n      </g>\n     </g>\n     <g id=\"text_5\">\n      <!-- 10 -->\n      <g transform=\"translate(215.3625 287.910437)scale(0.1 -0.1)\">\n       <use xlink:href=\"#DejaVuSans-49\"/>\n       <use x=\"63.623047\" xlink:href=\"#DejaVuSans-48\"/>\n      </g>\n     </g>\n    </g>\n    <g id=\"xtick_6\">\n     <g id=\"line2d_6\">\n      <g>\n       <use style=\"stroke:#000000;stroke-width:0.8;\" x=\"266.525\" xlink:href=\"#m2f9e0b6339\" y=\"273.312\"/>\n      </g>\n     </g>\n     <g id=\"text_6\">\n      <!-- 20 -->\n      <g transform=\"translate(260.1625 287.910437)scale(0.1 -0.1)\">\n       <use xlink:href=\"#DejaVuSans-50\"/>\n       <use x=\"63.623047\" xlink:href=\"#DejaVuSans-48\"/>\n      </g>\n     </g>\n    </g>\n    <g id=\"xtick_7\">\n     <g id=\"line2d_7\">\n      <g>\n       <use style=\"stroke:#000000;stroke-width:0.8;\" x=\"311.325\" xlink:href=\"#m2f9e0b6339\" y=\"273.312\"/>\n      </g>\n     </g>\n     <g id=\"text_7\">\n      <!-- 30 -->\n      <g transform=\"translate(304.9625 287.910437)scale(0.1 -0.1)\">\n       <use xlink:href=\"#DejaVuSans-51\"/>\n       <use x=\"63.623047\" xlink:href=\"#DejaVuSans-48\"/>\n      </g>\n     </g>\n    </g>\n    <g id=\"xtick_8\">\n     <g id=\"line2d_8\">\n      <g>\n       <use style=\"stroke:#000000;stroke-width:0.8;\" x=\"356.125\" xlink:href=\"#m2f9e0b6339\" y=\"273.312\"/>\n      </g>\n     </g>\n     <g id=\"text_8\">\n      <!-- 40 -->\n      <defs>\n       <path d=\"M 37.796875 64.3125 \nL 12.890625 25.390625 \nL 37.796875 25.390625 \nz\nM 35.203125 72.90625 \nL 47.609375 72.90625 \nL 47.609375 25.390625 \nL 58.015625 25.390625 \nL 58.015625 17.1875 \nL 47.609375 17.1875 \nL 47.609375 0 \nL 37.796875 0 \nL 37.796875 17.1875 \nL 4.890625 17.1875 \nL 4.890625 26.703125 \nz\n\" id=\"DejaVuSans-52\"/>\n      </defs>\n      <g transform=\"translate(349.7625 287.910437)scale(0.1 -0.1)\">\n       <use xlink:href=\"#DejaVuSans-52\"/>\n       <use x=\"63.623047\" xlink:href=\"#DejaVuSans-48\"/>\n      </g>\n     </g>\n    </g>\n   </g>\n   <g id=\"matplotlib.axis_2\">\n    <g id=\"ytick_1\">\n     <g id=\"line2d_9\">\n      <defs>\n       <path d=\"M 0 0 \nL -3.5 0 \n\" id=\"m7776807ae8\" style=\"stroke:#000000;stroke-width:0.8;\"/>\n      </defs>\n      <g>\n       <use style=\"stroke:#000000;stroke-width:0.8;\" x=\"26.925\" xlink:href=\"#m7776807ae8\" y=\"261.216\"/>\n      </g>\n     </g>\n     <g id=\"text_9\">\n      <!-- 0 -->\n      <g transform=\"translate(13.5625 265.015219)scale(0.1 -0.1)\">\n       <use xlink:href=\"#DejaVuSans-48\"/>\n      </g>\n     </g>\n    </g>\n    <g id=\"ytick_2\">\n     <g id=\"line2d_10\">\n      <g>\n       <use style=\"stroke:#000000;stroke-width:0.8;\" x=\"26.925\" xlink:href=\"#m7776807ae8\" y=\"216.416\"/>\n      </g>\n     </g>\n     <g id=\"text_10\">\n      <!-- 10 -->\n      <g transform=\"translate(7.2 220.215219)scale(0.1 -0.1)\">\n       <use xlink:href=\"#DejaVuSans-49\"/>\n       <use x=\"63.623047\" xlink:href=\"#DejaVuSans-48\"/>\n      </g>\n     </g>\n    </g>\n    <g id=\"ytick_3\">\n     <g id=\"line2d_11\">\n      <g>\n       <use style=\"stroke:#000000;stroke-width:0.8;\" x=\"26.925\" xlink:href=\"#m7776807ae8\" y=\"171.616\"/>\n      </g>\n     </g>\n     <g id=\"text_11\">\n      <!-- 20 -->\n      <g transform=\"translate(7.2 175.415219)scale(0.1 -0.1)\">\n       <use xlink:href=\"#DejaVuSans-50\"/>\n       <use x=\"63.623047\" xlink:href=\"#DejaVuSans-48\"/>\n      </g>\n     </g>\n    </g>\n    <g id=\"ytick_4\">\n     <g id=\"line2d_12\">\n      <g>\n       <use style=\"stroke:#000000;stroke-width:0.8;\" x=\"26.925\" xlink:href=\"#m7776807ae8\" y=\"126.816\"/>\n      </g>\n     </g>\n     <g id=\"text_12\">\n      <!-- 30 -->\n      <g transform=\"translate(7.2 130.615219)scale(0.1 -0.1)\">\n       <use xlink:href=\"#DejaVuSans-51\"/>\n       <use x=\"63.623047\" xlink:href=\"#DejaVuSans-48\"/>\n      </g>\n     </g>\n    </g>\n    <g id=\"ytick_5\">\n     <g id=\"line2d_13\">\n      <g>\n       <use style=\"stroke:#000000;stroke-width:0.8;\" x=\"26.925\" xlink:href=\"#m7776807ae8\" y=\"82.016\"/>\n      </g>\n     </g>\n     <g id=\"text_13\">\n      <!-- 40 -->\n      <g transform=\"translate(7.2 85.815219)scale(0.1 -0.1)\">\n       <use xlink:href=\"#DejaVuSans-52\"/>\n       <use x=\"63.623047\" xlink:href=\"#DejaVuSans-48\"/>\n      </g>\n     </g>\n    </g>\n    <g id=\"ytick_6\">\n     <g id=\"line2d_14\">\n      <g>\n       <use style=\"stroke:#000000;stroke-width:0.8;\" x=\"26.925\" xlink:href=\"#m7776807ae8\" y=\"37.216\"/>\n      </g>\n     </g>\n     <g id=\"text_14\">\n      <!-- 50 -->\n      <defs>\n       <path d=\"M 10.796875 72.90625 \nL 49.515625 72.90625 \nL 49.515625 64.59375 \nL 19.828125 64.59375 \nL 19.828125 46.734375 \nQ 21.96875 47.46875 24.109375 47.828125 \nQ 26.265625 48.1875 28.421875 48.1875 \nQ 40.625 48.1875 47.75 41.5 \nQ 54.890625 34.8125 54.890625 23.390625 \nQ 54.890625 11.625 47.5625 5.09375 \nQ 40.234375 -1.421875 26.90625 -1.421875 \nQ 22.3125 -1.421875 17.546875 -0.640625 \nQ 12.796875 0.140625 7.71875 1.703125 \nL 7.71875 11.625 \nQ 12.109375 9.234375 16.796875 8.0625 \nQ 21.484375 6.890625 26.703125 6.890625 \nQ 35.15625 6.890625 40.078125 11.328125 \nQ 45.015625 15.765625 45.015625 23.390625 \nQ 45.015625 31 40.078125 35.4375 \nQ 35.15625 39.890625 26.703125 39.890625 \nQ 22.75 39.890625 18.8125 39.015625 \nQ 14.890625 38.140625 10.796875 36.28125 \nz\n\" id=\"DejaVuSans-53\"/>\n      </defs>\n      <g transform=\"translate(7.2 41.015219)scale(0.1 -0.1)\">\n       <use xlink:href=\"#DejaVuSans-53\"/>\n       <use x=\"63.623047\" xlink:href=\"#DejaVuSans-48\"/>\n      </g>\n     </g>\n    </g>\n   </g>\n   <g id=\"line2d_15\">\n    <defs>\n     <path d=\"M 0 3 \nC 0.795609 3 1.55874 2.683901 2.12132 2.12132 \nC 2.683901 1.55874 3 0.795609 3 0 \nC 3 -0.795609 2.683901 -1.55874 2.12132 -2.12132 \nC 1.55874 -2.683901 0.795609 -3 0 -3 \nC -0.795609 -3 -1.55874 -2.683901 -2.12132 -2.12132 \nC -2.683901 -1.55874 -3 -0.795609 -3 0 \nC -3 0.795609 -2.683901 1.55874 -2.12132 2.12132 \nC -1.55874 2.683901 -0.795609 3 0 3 \nz\n\" id=\"m2429cf5b3a\" style=\"stroke:#000000;\"/>\n    </defs>\n    <g clip-path=\"url(#p977a15b067)\">\n     <use style=\"stroke:#000000;\" x=\"278.845\" xlink:href=\"#m2429cf5b3a\" y=\"108.896\"/>\n    </g>\n   </g>\n   <g id=\"line2d_16\">\n    <g clip-path=\"url(#p977a15b067)\">\n     <use style=\"stroke:#000000;\" x=\"355.005\" xlink:href=\"#m2429cf5b3a\" y=\"55.136\"/>\n    </g>\n   </g>\n   <g id=\"line2d_17\">\n    <g clip-path=\"url(#p977a15b067)\">\n     <use style=\"stroke:#000000;\" x=\"159.005\" xlink:href=\"#m2429cf5b3a\" y=\"261.216\"/>\n    </g>\n   </g>\n   <g id=\"line2d_18\">\n    <path clip-path=\"url(#p977a15b067)\" d=\"M 163.485 261.216 \nL 163.485 19.296 \nL 55.965 19.296 \nL 55.965 261.216 \n\" style=\"fill:none;stroke:#d3d3d3;stroke-dasharray:5.55,2.4;stroke-dashoffset:0;stroke-width:1.5;\"/>\n   </g>\n   <g id=\"line2d_19\">\n    <path clip-path=\"url(#p977a15b067)\" d=\"M 55.965 247.776 \nL 55.965 19.296 \nL 163.485 19.296 \nL 163.485 247.776 \nL 55.965 247.776 \n\" style=\"fill:none;stroke:#d3d3d3;stroke-dasharray:5.55,2.4;stroke-dashoffset:0;stroke-width:1.5;\"/>\n   </g>\n   <g id=\"line2d_20\">\n    <path clip-path=\"url(#p977a15b067)\" d=\"M 109.725 247.776 \nL 69.142174 96.31883 \nL 116.475419 197.825303 \nL 151.094201 188.549228 \nL 161.529785 227.495357 \n\" style=\"fill:none;stroke:#0000ff;stroke-linecap:square;stroke-width:1.5;\"/>\n   </g>\n   <g id=\"line2d_21\">\n    <defs>\n     <path d=\"M 0 3 \nC 0.795609 3 1.55874 2.683901 2.12132 2.12132 \nC 2.683901 1.55874 3 0.795609 3 0 \nC 3 -0.795609 2.683901 -1.55874 2.12132 -2.12132 \nC 1.55874 -2.683901 0.795609 -3 0 -3 \nC -0.795609 -3 -1.55874 -2.683901 -2.12132 -2.12132 \nC -2.683901 -1.55874 -3 -0.795609 -3 0 \nC -3 0.795609 -2.683901 1.55874 -2.12132 2.12132 \nC -1.55874 2.683901 -0.795609 3 0 3 \nz\n\" id=\"m2648d854cd\" style=\"stroke:#ff0000;\"/>\n    </defs>\n    <g clip-path=\"url(#p977a15b067)\">\n     <use style=\"fill:#ff0000;stroke:#ff0000;\" x=\"109.725\" xlink:href=\"#m2648d854cd\" y=\"247.776\"/>\n     <use style=\"fill:#ff0000;stroke:#ff0000;\" x=\"69.142174\" xlink:href=\"#m2648d854cd\" y=\"96.31883\"/>\n     <use style=\"fill:#ff0000;stroke:#ff0000;\" x=\"116.475419\" xlink:href=\"#m2648d854cd\" y=\"197.825303\"/>\n     <use style=\"fill:#ff0000;stroke:#ff0000;\" x=\"161.529785\" xlink:href=\"#m2648d854cd\" y=\"227.495357\"/>\n    </g>\n   </g>\n   <g id=\"line2d_22\">\n    <path clip-path=\"url(#p977a15b067)\" d=\"M 109.725 247.776 \nL 136.953034 93.358144 \nL 248.846435 98.243516 \nL 275.270455 74.030363 \nL 302.510252 103.757385 \n\" style=\"fill:none;stroke:#008000;stroke-linecap:square;stroke-width:1.5;\"/>\n   </g>\n   <g id=\"line2d_23\">\n    <defs>\n     <path d=\"M 0 3 \nC 0.795609 3 1.55874 2.683901 2.12132 2.12132 \nC 2.683901 1.55874 3 0.795609 3 0 \nC 3 -0.795609 2.683901 -1.55874 2.12132 -2.12132 \nC 1.55874 -2.683901 0.795609 -3 0 -3 \nC -0.795609 -3 -1.55874 -2.683901 -2.12132 -2.12132 \nC -2.683901 -1.55874 -3 -0.795609 -3 0 \nC -3 0.795609 -2.683901 1.55874 -2.12132 2.12132 \nC -1.55874 2.683901 -0.795609 3 0 3 \nz\n\" id=\"m3f9bd20152\" style=\"stroke:#0000ff;\"/>\n    </defs>\n    <g clip-path=\"url(#p977a15b067)\">\n     <use style=\"fill:#0000ff;stroke:#0000ff;\" x=\"109.725\" xlink:href=\"#m3f9bd20152\" y=\"247.776\"/>\n     <use style=\"fill:#0000ff;stroke:#0000ff;\" x=\"136.953034\" xlink:href=\"#m3f9bd20152\" y=\"93.358144\"/>\n     <use style=\"fill:#0000ff;stroke:#0000ff;\" x=\"248.846435\" xlink:href=\"#m3f9bd20152\" y=\"98.243516\"/>\n     <use style=\"fill:#0000ff;stroke:#0000ff;\" x=\"302.510252\" xlink:href=\"#m3f9bd20152\" y=\"103.757385\"/>\n    </g>\n   </g>\n   <g id=\"line2d_24\">\n    <path clip-path=\"url(#p977a15b067)\" d=\"M 109.725 247.776 \nL 163.353758 100.432197 \nL 266.828266 57.571653 \nL 280.54364 24.45981 \nL 317.794463 39.889606 \n\" style=\"fill:none;stroke:#ff0000;stroke-linecap:square;stroke-width:1.5;\"/>\n   </g>\n   <g id=\"line2d_25\">\n    <defs>\n     <path d=\"M 0 3 \nC 0.795609 3 1.55874 2.683901 2.12132 2.12132 \nC 2.683901 1.55874 3 0.795609 3 0 \nC 3 -0.795609 2.683901 -1.55874 2.12132 -2.12132 \nC 1.55874 -2.683901 0.795609 -3 0 -3 \nC -0.795609 -3 -1.55874 -2.683901 -2.12132 -2.12132 \nC -2.683901 -1.55874 -3 -0.795609 -3 0 \nC -3 0.795609 -2.683901 1.55874 -2.12132 2.12132 \nC -1.55874 2.683901 -0.795609 3 0 3 \nz\n\" id=\"m8abeb70b5a\" style=\"stroke:#008000;\"/>\n    </defs>\n    <g clip-path=\"url(#p977a15b067)\">\n     <use style=\"fill:#008000;stroke:#008000;\" x=\"109.725\" xlink:href=\"#m8abeb70b5a\" y=\"247.776\"/>\n     <use style=\"fill:#008000;stroke:#008000;\" x=\"163.353758\" xlink:href=\"#m8abeb70b5a\" y=\"100.432197\"/>\n     <use style=\"fill:#008000;stroke:#008000;\" x=\"266.828266\" xlink:href=\"#m8abeb70b5a\" y=\"57.571653\"/>\n     <use style=\"fill:#008000;stroke:#008000;\" x=\"317.794463\" xlink:href=\"#m8abeb70b5a\" y=\"39.889606\"/>\n    </g>\n   </g>\n   <g id=\"patch_3\">\n    <path d=\"M 26.925 273.312 \nL 26.925 7.2 \n\" style=\"fill:none;stroke:#000000;stroke-linecap:square;stroke-linejoin:miter;stroke-width:0.8;\"/>\n   </g>\n   <g id=\"patch_4\">\n    <path d=\"M 384.045 273.312 \nL 384.045 7.2 \n\" style=\"fill:none;stroke:#000000;stroke-linecap:square;stroke-linejoin:miter;stroke-width:0.8;\"/>\n   </g>\n   <g id=\"patch_5\">\n    <path d=\"M 26.925 273.312 \nL 384.045 273.312 \n\" style=\"fill:none;stroke:#000000;stroke-linecap:square;stroke-linejoin:miter;stroke-width:0.8;\"/>\n   </g>\n   <g id=\"patch_6\">\n    <path d=\"M 26.925 7.2 \nL 384.045 7.2 \n\" style=\"fill:none;stroke:#000000;stroke-linecap:square;stroke-linejoin:miter;stroke-width:0.8;\"/>\n   </g>\n  </g>\n </g>\n <defs>\n  <clipPath id=\"p977a15b067\">\n   <rect height=\"266.112\" width=\"357.12\" x=\"26.925\" y=\"7.2\"/>\n  </clipPath>\n </defs>\n</svg>\n"
          },
          "metadata": {}
        }
      ]
    },
    {
      "cell_type": "markdown",
      "source": [
        "Call `scipy.optimize.minimize()`:"
      ],
      "metadata": {
        "id": "pqVau4sUdbdK"
      }
    },
    {
      "cell_type": "code",
      "source": [
        "res = scipy.optimize.minimize(\n",
        "    fun = f,\n",
        "    x0 = x_init,\n",
        "    bounds = bounds,\n",
        "    constraints = [\n",
        "        {\n",
        "            'type': 'eq',\n",
        "            'fun': c_eq,\n",
        "        },\n",
        "        {\n",
        "            'type': 'ineq',\n",
        "            'fun': c_ineq,\n",
        "        }\n",
        "    ]\n",
        ")"
      ],
      "metadata": {
        "id": "K8wB_rGYbQy-"
      },
      "execution_count": null,
      "outputs": []
    },
    {
      "cell_type": "markdown",
      "source": [
        "## Plot results"
      ],
      "metadata": {
        "id": "a8Bnj-Zpdqtb"
      }
    },
    {
      "cell_type": "code",
      "source": [
        "x0, y0, l1, l2, G, theta1, theta2_offset, theta3 = unpack(res['x'])\n",
        "theta2 = -G * (theta1 - theta1[0]) + theta2_offset\n",
        "\n",
        "start_height = y0 + l1 * sin(theta1[0])\n",
        "actuation_angle = np.degrees(theta1[0]-theta1[1])\n",
        "\n",
        "mid_theta = theta1[1] + theta2[1] + theta3[1] # mid cone tilt\n",
        "high_theta = theta1[2] + theta2[2] + theta3[2] # high cone tilt\n",
        "\n",
        "print(\"mid cone tilt: \", np.degrees(mid_theta))\n",
        "print(\"high cone tilt: \", np.degrees(high_theta))\n",
        "print(\"G: \", G)\n",
        "\n",
        "plt.figure()\n",
        "\n",
        "plot_env()\n",
        "\n",
        "plot_config(x0, y0, l1, l2, theta1[0], theta2[0], theta3[0], 'b-', 'ro')\n",
        "plot_config(x0, y0, l1, l2, theta1[1], theta2[1], theta3[1], 'g-', 'bo')\n",
        "plot_config(x0, y0, l1, l2, theta1[2], theta2[2], theta3[2], 'r-', 'go')\n",
        "\n",
        "plt.show()"
      ],
      "metadata": {
        "colab": {
          "base_uri": "https://localhost:8080/",
          "height": 471
        },
        "id": "bZ9bUxNCbSRl",
        "outputId": "c0155a3d-4e23-44dc-a82e-f52a2a9e5076"
      },
      "execution_count": null,
      "outputs": [
        {
          "output_type": "stream",
          "name": "stdout",
          "text": [
            "mid cone tilt:  39.99999999829681\n",
            "high cone tilt:  32.15926004674521\n",
            "G:  1.4840619090459262\n"
          ]
        },
        {
          "output_type": "display_data",
          "data": {
            "text/plain": [
              "<Figure size 640x480 with 1 Axes>"
            ],
            "image/svg+xml": "<?xml version=\"1.0\" encoding=\"utf-8\" standalone=\"no\"?>\n<!DOCTYPE svg PUBLIC \"-//W3C//DTD SVG 1.1//EN\"\n  \"http://www.w3.org/Graphics/SVG/1.1/DTD/svg11.dtd\">\n<!-- Created with matplotlib (https://matplotlib.org/) -->\n<svg height=\"297.190125pt\" version=\"1.1\" viewBox=\"0 0 391.245 297.190125\" width=\"391.245pt\" xmlns=\"http://www.w3.org/2000/svg\" xmlns:xlink=\"http://www.w3.org/1999/xlink\">\n <defs>\n  <style type=\"text/css\">\n*{stroke-linecap:butt;stroke-linejoin:round;}\n  </style>\n </defs>\n <g id=\"figure_1\">\n  <g id=\"patch_1\">\n   <path d=\"M 0 297.190125 \nL 391.245 297.190125 \nL 391.245 0 \nL 0 0 \nz\n\" style=\"fill:#ffffff;\"/>\n  </g>\n  <g id=\"axes_1\">\n   <g id=\"patch_2\">\n    <path d=\"M 26.925 273.312 \nL 384.045 273.312 \nL 384.045 7.2 \nL 26.925 7.2 \nz\n\" style=\"fill:#ffffff;\"/>\n   </g>\n   <g id=\"matplotlib.axis_1\">\n    <g id=\"xtick_1\">\n     <g id=\"line2d_1\">\n      <defs>\n       <path d=\"M 0 0 \nL 0 3.5 \n\" id=\"m9dc1379b0a\" style=\"stroke:#000000;stroke-width:0.8;\"/>\n      </defs>\n      <g>\n       <use style=\"stroke:#000000;stroke-width:0.8;\" x=\"42.525\" xlink:href=\"#m9dc1379b0a\" y=\"273.312\"/>\n      </g>\n     </g>\n     <g id=\"text_1\">\n      <!-- −30 -->\n      <defs>\n       <path d=\"M 10.59375 35.5 \nL 73.1875 35.5 \nL 73.1875 27.203125 \nL 10.59375 27.203125 \nz\n\" id=\"DejaVuSans-8722\"/>\n       <path d=\"M 40.578125 39.3125 \nQ 47.65625 37.796875 51.625 33 \nQ 55.609375 28.21875 55.609375 21.1875 \nQ 55.609375 10.40625 48.1875 4.484375 \nQ 40.765625 -1.421875 27.09375 -1.421875 \nQ 22.515625 -1.421875 17.65625 -0.515625 \nQ 12.796875 0.390625 7.625 2.203125 \nL 7.625 11.71875 \nQ 11.71875 9.328125 16.59375 8.109375 \nQ 21.484375 6.890625 26.8125 6.890625 \nQ 36.078125 6.890625 40.9375 10.546875 \nQ 45.796875 14.203125 45.796875 21.1875 \nQ 45.796875 27.640625 41.28125 31.265625 \nQ 36.765625 34.90625 28.71875 34.90625 \nL 20.21875 34.90625 \nL 20.21875 43.015625 \nL 29.109375 43.015625 \nQ 36.375 43.015625 40.234375 45.921875 \nQ 44.09375 48.828125 44.09375 54.296875 \nQ 44.09375 59.90625 40.109375 62.90625 \nQ 36.140625 65.921875 28.71875 65.921875 \nQ 24.65625 65.921875 20.015625 65.03125 \nQ 15.375 64.15625 9.8125 62.3125 \nL 9.8125 71.09375 \nQ 15.4375 72.65625 20.34375 73.4375 \nQ 25.25 74.21875 29.59375 74.21875 \nQ 40.828125 74.21875 47.359375 69.109375 \nQ 53.90625 64.015625 53.90625 55.328125 \nQ 53.90625 49.265625 50.4375 45.09375 \nQ 46.96875 40.921875 40.578125 39.3125 \nz\n\" id=\"DejaVuSans-51\"/>\n       <path d=\"M 31.78125 66.40625 \nQ 24.171875 66.40625 20.328125 58.90625 \nQ 16.5 51.421875 16.5 36.375 \nQ 16.5 21.390625 20.328125 13.890625 \nQ 24.171875 6.390625 31.78125 6.390625 \nQ 39.453125 6.390625 43.28125 13.890625 \nQ 47.125 21.390625 47.125 36.375 \nQ 47.125 51.421875 43.28125 58.90625 \nQ 39.453125 66.40625 31.78125 66.40625 \nz\nM 31.78125 74.21875 \nQ 44.046875 74.21875 50.515625 64.515625 \nQ 56.984375 54.828125 56.984375 36.375 \nQ 56.984375 17.96875 50.515625 8.265625 \nQ 44.046875 -1.421875 31.78125 -1.421875 \nQ 19.53125 -1.421875 13.0625 8.265625 \nQ 6.59375 17.96875 6.59375 36.375 \nQ 6.59375 54.828125 13.0625 64.515625 \nQ 19.53125 74.21875 31.78125 74.21875 \nz\n\" id=\"DejaVuSans-48\"/>\n      </defs>\n      <g transform=\"translate(31.972656 287.910437)scale(0.1 -0.1)\">\n       <use xlink:href=\"#DejaVuSans-8722\"/>\n       <use x=\"83.789062\" xlink:href=\"#DejaVuSans-51\"/>\n       <use x=\"147.412109\" xlink:href=\"#DejaVuSans-48\"/>\n      </g>\n     </g>\n    </g>\n    <g id=\"xtick_2\">\n     <g id=\"line2d_2\">\n      <g>\n       <use style=\"stroke:#000000;stroke-width:0.8;\" x=\"87.325\" xlink:href=\"#m9dc1379b0a\" y=\"273.312\"/>\n      </g>\n     </g>\n     <g id=\"text_2\">\n      <!-- −20 -->\n      <defs>\n       <path d=\"M 19.1875 8.296875 \nL 53.609375 8.296875 \nL 53.609375 0 \nL 7.328125 0 \nL 7.328125 8.296875 \nQ 12.9375 14.109375 22.625 23.890625 \nQ 32.328125 33.6875 34.8125 36.53125 \nQ 39.546875 41.84375 41.421875 45.53125 \nQ 43.3125 49.21875 43.3125 52.78125 \nQ 43.3125 58.59375 39.234375 62.25 \nQ 35.15625 65.921875 28.609375 65.921875 \nQ 23.96875 65.921875 18.8125 64.3125 \nQ 13.671875 62.703125 7.8125 59.421875 \nL 7.8125 69.390625 \nQ 13.765625 71.78125 18.9375 73 \nQ 24.125 74.21875 28.421875 74.21875 \nQ 39.75 74.21875 46.484375 68.546875 \nQ 53.21875 62.890625 53.21875 53.421875 \nQ 53.21875 48.921875 51.53125 44.890625 \nQ 49.859375 40.875 45.40625 35.40625 \nQ 44.1875 33.984375 37.640625 27.21875 \nQ 31.109375 20.453125 19.1875 8.296875 \nz\n\" id=\"DejaVuSans-50\"/>\n      </defs>\n      <g transform=\"translate(76.772656 287.910437)scale(0.1 -0.1)\">\n       <use xlink:href=\"#DejaVuSans-8722\"/>\n       <use x=\"83.789062\" xlink:href=\"#DejaVuSans-50\"/>\n       <use x=\"147.412109\" xlink:href=\"#DejaVuSans-48\"/>\n      </g>\n     </g>\n    </g>\n    <g id=\"xtick_3\">\n     <g id=\"line2d_3\">\n      <g>\n       <use style=\"stroke:#000000;stroke-width:0.8;\" x=\"132.125\" xlink:href=\"#m9dc1379b0a\" y=\"273.312\"/>\n      </g>\n     </g>\n     <g id=\"text_3\">\n      <!-- −10 -->\n      <defs>\n       <path d=\"M 12.40625 8.296875 \nL 28.515625 8.296875 \nL 28.515625 63.921875 \nL 10.984375 60.40625 \nL 10.984375 69.390625 \nL 28.421875 72.90625 \nL 38.28125 72.90625 \nL 38.28125 8.296875 \nL 54.390625 8.296875 \nL 54.390625 0 \nL 12.40625 0 \nz\n\" id=\"DejaVuSans-49\"/>\n      </defs>\n      <g transform=\"translate(121.572656 287.910437)scale(0.1 -0.1)\">\n       <use xlink:href=\"#DejaVuSans-8722\"/>\n       <use x=\"83.789062\" xlink:href=\"#DejaVuSans-49\"/>\n       <use x=\"147.412109\" xlink:href=\"#DejaVuSans-48\"/>\n      </g>\n     </g>\n    </g>\n    <g id=\"xtick_4\">\n     <g id=\"line2d_4\">\n      <g>\n       <use style=\"stroke:#000000;stroke-width:0.8;\" x=\"176.925\" xlink:href=\"#m9dc1379b0a\" y=\"273.312\"/>\n      </g>\n     </g>\n     <g id=\"text_4\">\n      <!-- 0 -->\n      <g transform=\"translate(173.74375 287.910437)scale(0.1 -0.1)\">\n       <use xlink:href=\"#DejaVuSans-48\"/>\n      </g>\n     </g>\n    </g>\n    <g id=\"xtick_5\">\n     <g id=\"line2d_5\">\n      <g>\n       <use style=\"stroke:#000000;stroke-width:0.8;\" x=\"221.725\" xlink:href=\"#m9dc1379b0a\" y=\"273.312\"/>\n      </g>\n     </g>\n     <g id=\"text_5\">\n      <!-- 10 -->\n      <g transform=\"translate(215.3625 287.910437)scale(0.1 -0.1)\">\n       <use xlink:href=\"#DejaVuSans-49\"/>\n       <use x=\"63.623047\" xlink:href=\"#DejaVuSans-48\"/>\n      </g>\n     </g>\n    </g>\n    <g id=\"xtick_6\">\n     <g id=\"line2d_6\">\n      <g>\n       <use style=\"stroke:#000000;stroke-width:0.8;\" x=\"266.525\" xlink:href=\"#m9dc1379b0a\" y=\"273.312\"/>\n      </g>\n     </g>\n     <g id=\"text_6\">\n      <!-- 20 -->\n      <g transform=\"translate(260.1625 287.910437)scale(0.1 -0.1)\">\n       <use xlink:href=\"#DejaVuSans-50\"/>\n       <use x=\"63.623047\" xlink:href=\"#DejaVuSans-48\"/>\n      </g>\n     </g>\n    </g>\n    <g id=\"xtick_7\">\n     <g id=\"line2d_7\">\n      <g>\n       <use style=\"stroke:#000000;stroke-width:0.8;\" x=\"311.325\" xlink:href=\"#m9dc1379b0a\" y=\"273.312\"/>\n      </g>\n     </g>\n     <g id=\"text_7\">\n      <!-- 30 -->\n      <g transform=\"translate(304.9625 287.910437)scale(0.1 -0.1)\">\n       <use xlink:href=\"#DejaVuSans-51\"/>\n       <use x=\"63.623047\" xlink:href=\"#DejaVuSans-48\"/>\n      </g>\n     </g>\n    </g>\n    <g id=\"xtick_8\">\n     <g id=\"line2d_8\">\n      <g>\n       <use style=\"stroke:#000000;stroke-width:0.8;\" x=\"356.125\" xlink:href=\"#m9dc1379b0a\" y=\"273.312\"/>\n      </g>\n     </g>\n     <g id=\"text_8\">\n      <!-- 40 -->\n      <defs>\n       <path d=\"M 37.796875 64.3125 \nL 12.890625 25.390625 \nL 37.796875 25.390625 \nz\nM 35.203125 72.90625 \nL 47.609375 72.90625 \nL 47.609375 25.390625 \nL 58.015625 25.390625 \nL 58.015625 17.1875 \nL 47.609375 17.1875 \nL 47.609375 0 \nL 37.796875 0 \nL 37.796875 17.1875 \nL 4.890625 17.1875 \nL 4.890625 26.703125 \nz\n\" id=\"DejaVuSans-52\"/>\n      </defs>\n      <g transform=\"translate(349.7625 287.910437)scale(0.1 -0.1)\">\n       <use xlink:href=\"#DejaVuSans-52\"/>\n       <use x=\"63.623047\" xlink:href=\"#DejaVuSans-48\"/>\n      </g>\n     </g>\n    </g>\n   </g>\n   <g id=\"matplotlib.axis_2\">\n    <g id=\"ytick_1\">\n     <g id=\"line2d_9\">\n      <defs>\n       <path d=\"M 0 0 \nL -3.5 0 \n\" id=\"m4be59007ec\" style=\"stroke:#000000;stroke-width:0.8;\"/>\n      </defs>\n      <g>\n       <use style=\"stroke:#000000;stroke-width:0.8;\" x=\"26.925\" xlink:href=\"#m4be59007ec\" y=\"261.216\"/>\n      </g>\n     </g>\n     <g id=\"text_9\">\n      <!-- 0 -->\n      <g transform=\"translate(13.5625 265.015219)scale(0.1 -0.1)\">\n       <use xlink:href=\"#DejaVuSans-48\"/>\n      </g>\n     </g>\n    </g>\n    <g id=\"ytick_2\">\n     <g id=\"line2d_10\">\n      <g>\n       <use style=\"stroke:#000000;stroke-width:0.8;\" x=\"26.925\" xlink:href=\"#m4be59007ec\" y=\"216.416\"/>\n      </g>\n     </g>\n     <g id=\"text_10\">\n      <!-- 10 -->\n      <g transform=\"translate(7.2 220.215219)scale(0.1 -0.1)\">\n       <use xlink:href=\"#DejaVuSans-49\"/>\n       <use x=\"63.623047\" xlink:href=\"#DejaVuSans-48\"/>\n      </g>\n     </g>\n    </g>\n    <g id=\"ytick_3\">\n     <g id=\"line2d_11\">\n      <g>\n       <use style=\"stroke:#000000;stroke-width:0.8;\" x=\"26.925\" xlink:href=\"#m4be59007ec\" y=\"171.616\"/>\n      </g>\n     </g>\n     <g id=\"text_11\">\n      <!-- 20 -->\n      <g transform=\"translate(7.2 175.415219)scale(0.1 -0.1)\">\n       <use xlink:href=\"#DejaVuSans-50\"/>\n       <use x=\"63.623047\" xlink:href=\"#DejaVuSans-48\"/>\n      </g>\n     </g>\n    </g>\n    <g id=\"ytick_4\">\n     <g id=\"line2d_12\">\n      <g>\n       <use style=\"stroke:#000000;stroke-width:0.8;\" x=\"26.925\" xlink:href=\"#m4be59007ec\" y=\"126.816\"/>\n      </g>\n     </g>\n     <g id=\"text_12\">\n      <!-- 30 -->\n      <g transform=\"translate(7.2 130.615219)scale(0.1 -0.1)\">\n       <use xlink:href=\"#DejaVuSans-51\"/>\n       <use x=\"63.623047\" xlink:href=\"#DejaVuSans-48\"/>\n      </g>\n     </g>\n    </g>\n    <g id=\"ytick_5\">\n     <g id=\"line2d_13\">\n      <g>\n       <use style=\"stroke:#000000;stroke-width:0.8;\" x=\"26.925\" xlink:href=\"#m4be59007ec\" y=\"82.016\"/>\n      </g>\n     </g>\n     <g id=\"text_13\">\n      <!-- 40 -->\n      <g transform=\"translate(7.2 85.815219)scale(0.1 -0.1)\">\n       <use xlink:href=\"#DejaVuSans-52\"/>\n       <use x=\"63.623047\" xlink:href=\"#DejaVuSans-48\"/>\n      </g>\n     </g>\n    </g>\n    <g id=\"ytick_6\">\n     <g id=\"line2d_14\">\n      <g>\n       <use style=\"stroke:#000000;stroke-width:0.8;\" x=\"26.925\" xlink:href=\"#m4be59007ec\" y=\"37.216\"/>\n      </g>\n     </g>\n     <g id=\"text_14\">\n      <!-- 50 -->\n      <defs>\n       <path d=\"M 10.796875 72.90625 \nL 49.515625 72.90625 \nL 49.515625 64.59375 \nL 19.828125 64.59375 \nL 19.828125 46.734375 \nQ 21.96875 47.46875 24.109375 47.828125 \nQ 26.265625 48.1875 28.421875 48.1875 \nQ 40.625 48.1875 47.75 41.5 \nQ 54.890625 34.8125 54.890625 23.390625 \nQ 54.890625 11.625 47.5625 5.09375 \nQ 40.234375 -1.421875 26.90625 -1.421875 \nQ 22.3125 -1.421875 17.546875 -0.640625 \nQ 12.796875 0.140625 7.71875 1.703125 \nL 7.71875 11.625 \nQ 12.109375 9.234375 16.796875 8.0625 \nQ 21.484375 6.890625 26.703125 6.890625 \nQ 35.15625 6.890625 40.078125 11.328125 \nQ 45.015625 15.765625 45.015625 23.390625 \nQ 45.015625 31 40.078125 35.4375 \nQ 35.15625 39.890625 26.703125 39.890625 \nQ 22.75 39.890625 18.8125 39.015625 \nQ 14.890625 38.140625 10.796875 36.28125 \nz\n\" id=\"DejaVuSans-53\"/>\n      </defs>\n      <g transform=\"translate(7.2 41.015219)scale(0.1 -0.1)\">\n       <use xlink:href=\"#DejaVuSans-53\"/>\n       <use x=\"63.623047\" xlink:href=\"#DejaVuSans-48\"/>\n      </g>\n     </g>\n    </g>\n   </g>\n   <g id=\"line2d_15\">\n    <defs>\n     <path d=\"M 0 3 \nC 0.795609 3 1.55874 2.683901 2.12132 2.12132 \nC 2.683901 1.55874 3 0.795609 3 0 \nC 3 -0.795609 2.683901 -1.55874 2.12132 -2.12132 \nC 1.55874 -2.683901 0.795609 -3 0 -3 \nC -0.795609 -3 -1.55874 -2.683901 -2.12132 -2.12132 \nC -2.683901 -1.55874 -3 -0.795609 -3 0 \nC -3 0.795609 -2.683901 1.55874 -2.12132 2.12132 \nC -1.55874 2.683901 -0.795609 3 0 3 \nz\n\" id=\"meb52e76a67\" style=\"stroke:#000000;\"/>\n    </defs>\n    <g clip-path=\"url(#p8d7e98bed3)\">\n     <use style=\"stroke:#000000;\" x=\"278.845\" xlink:href=\"#meb52e76a67\" y=\"108.896\"/>\n    </g>\n   </g>\n   <g id=\"line2d_16\">\n    <g clip-path=\"url(#p8d7e98bed3)\">\n     <use style=\"stroke:#000000;\" x=\"355.005\" xlink:href=\"#meb52e76a67\" y=\"55.136\"/>\n    </g>\n   </g>\n   <g id=\"line2d_17\">\n    <g clip-path=\"url(#p8d7e98bed3)\">\n     <use style=\"stroke:#000000;\" x=\"159.005\" xlink:href=\"#meb52e76a67\" y=\"261.216\"/>\n    </g>\n   </g>\n   <g id=\"line2d_18\">\n    <path clip-path=\"url(#p8d7e98bed3)\" d=\"M 163.485 261.216 \nL 163.485 19.296 \nL 55.965 19.296 \nL 55.965 261.216 \n\" style=\"fill:none;stroke:#d3d3d3;stroke-dasharray:5.55,2.4;stroke-dashoffset:0;stroke-width:1.5;\"/>\n   </g>\n   <g id=\"line2d_19\">\n    <path clip-path=\"url(#p8d7e98bed3)\" d=\"M 55.965 247.776 \nL 55.965 19.296 \nL 163.485 19.296 \nL 163.485 247.776 \nL 55.965 247.776 \n\" style=\"fill:none;stroke:#d3d3d3;stroke-dasharray:5.55,2.4;stroke-dashoffset:0;stroke-width:1.5;\"/>\n   </g>\n   <g id=\"line2d_20\">\n    <path clip-path=\"url(#p8d7e98bed3)\" d=\"M 114.599422 99.038137 \nL 55.965 99.038137 \nL 123.165 220.896 \nL 159.005 220.896 \nL 159.005 261.216 \n\" style=\"fill:none;stroke:#0000ff;stroke-linecap:square;stroke-width:1.5;\"/>\n   </g>\n   <g id=\"line2d_21\">\n    <defs>\n     <path d=\"M 0 3 \nC 0.795609 3 1.55874 2.683901 2.12132 2.12132 \nC 2.683901 1.55874 3 0.795609 3 0 \nC 3 -0.795609 2.683901 -1.55874 2.12132 -2.12132 \nC 1.55874 -2.683901 0.795609 -3 0 -3 \nC -0.795609 -3 -1.55874 -2.683901 -2.12132 -2.12132 \nC -2.683901 -1.55874 -3 -0.795609 -3 0 \nC -3 0.795609 -2.683901 1.55874 -2.12132 2.12132 \nC -1.55874 2.683901 -0.795609 3 0 3 \nz\n\" id=\"mef65d8b665\" style=\"stroke:#ff0000;\"/>\n    </defs>\n    <g clip-path=\"url(#p8d7e98bed3)\">\n     <use style=\"fill:#ff0000;stroke:#ff0000;\" x=\"114.599422\" xlink:href=\"#mef65d8b665\" y=\"99.038137\"/>\n     <use style=\"fill:#ff0000;stroke:#ff0000;\" x=\"55.965\" xlink:href=\"#mef65d8b665\" y=\"99.038137\"/>\n     <use style=\"fill:#ff0000;stroke:#ff0000;\" x=\"123.165\" xlink:href=\"#mef65d8b665\" y=\"220.896\"/>\n     <use style=\"fill:#ff0000;stroke:#ff0000;\" x=\"159.005\" xlink:href=\"#mef65d8b665\" y=\"261.216\"/>\n    </g>\n   </g>\n   <g id=\"line2d_22\">\n    <path clip-path=\"url(#p8d7e98bed3)\" d=\"M 114.599422 99.038137 \nL 99.253397 42.447546 \nL 225.472771 101.046596 \nL 252.927804 78.009088 \nL 278.845 108.896 \n\" style=\"fill:none;stroke:#008000;stroke-linecap:square;stroke-width:1.5;\"/>\n   </g>\n   <g id=\"line2d_23\">\n    <defs>\n     <path d=\"M 0 3 \nC 0.795609 3 1.55874 2.683901 2.12132 2.12132 \nC 2.683901 1.55874 3 0.795609 3 0 \nC 3 -0.795609 2.683901 -1.55874 2.12132 -2.12132 \nC 1.55874 -2.683901 0.795609 -3 0 -3 \nC -0.795609 -3 -1.55874 -2.683901 -2.12132 -2.12132 \nC -2.683901 -1.55874 -3 -0.795609 -3 0 \nC -3 0.795609 -2.683901 1.55874 -2.12132 2.12132 \nC -1.55874 2.683901 -0.795609 3 0 3 \nz\n\" id=\"mc6317f8706\" style=\"stroke:#0000ff;\"/>\n    </defs>\n    <g clip-path=\"url(#p8d7e98bed3)\">\n     <use style=\"fill:#0000ff;stroke:#0000ff;\" x=\"114.599422\" xlink:href=\"#mc6317f8706\" y=\"99.038137\"/>\n     <use style=\"fill:#0000ff;stroke:#0000ff;\" x=\"99.253397\" xlink:href=\"#mc6317f8706\" y=\"42.447546\"/>\n     <use style=\"fill:#0000ff;stroke:#0000ff;\" x=\"225.472771\" xlink:href=\"#mc6317f8706\" y=\"101.046596\"/>\n     <use style=\"fill:#0000ff;stroke:#0000ff;\" x=\"278.845\" xlink:href=\"#mc6317f8706\" y=\"108.896\"/>\n    </g>\n   </g>\n   <g id=\"line2d_24\">\n    <path clip-path=\"url(#p8d7e98bed3)\" d=\"M 114.599422 99.038137 \nL 169.257343 77.812985 \nL 303.202558 40.07894 \nL 333.543694 21.002223 \nL 355.005 55.136 \n\" style=\"fill:none;stroke:#ff0000;stroke-linecap:square;stroke-width:1.5;\"/>\n   </g>\n   <g id=\"line2d_25\">\n    <defs>\n     <path d=\"M 0 3 \nC 0.795609 3 1.55874 2.683901 2.12132 2.12132 \nC 2.683901 1.55874 3 0.795609 3 0 \nC 3 -0.795609 2.683901 -1.55874 2.12132 -2.12132 \nC 1.55874 -2.683901 0.795609 -3 0 -3 \nC -0.795609 -3 -1.55874 -2.683901 -2.12132 -2.12132 \nC -2.683901 -1.55874 -3 -0.795609 -3 0 \nC -3 0.795609 -2.683901 1.55874 -2.12132 2.12132 \nC -1.55874 2.683901 -0.795609 3 0 3 \nz\n\" id=\"mff5243076d\" style=\"stroke:#008000;\"/>\n    </defs>\n    <g clip-path=\"url(#p8d7e98bed3)\">\n     <use style=\"fill:#008000;stroke:#008000;\" x=\"114.599422\" xlink:href=\"#mff5243076d\" y=\"99.038137\"/>\n     <use style=\"fill:#008000;stroke:#008000;\" x=\"169.257343\" xlink:href=\"#mff5243076d\" y=\"77.812985\"/>\n     <use style=\"fill:#008000;stroke:#008000;\" x=\"303.202558\" xlink:href=\"#mff5243076d\" y=\"40.07894\"/>\n     <use style=\"fill:#008000;stroke:#008000;\" x=\"355.005\" xlink:href=\"#mff5243076d\" y=\"55.136\"/>\n    </g>\n   </g>\n   <g id=\"patch_3\">\n    <path d=\"M 26.925 273.312 \nL 26.925 7.2 \n\" style=\"fill:none;stroke:#000000;stroke-linecap:square;stroke-linejoin:miter;stroke-width:0.8;\"/>\n   </g>\n   <g id=\"patch_4\">\n    <path d=\"M 384.045 273.312 \nL 384.045 7.2 \n\" style=\"fill:none;stroke:#000000;stroke-linecap:square;stroke-linejoin:miter;stroke-width:0.8;\"/>\n   </g>\n   <g id=\"patch_5\">\n    <path d=\"M 26.925 273.312 \nL 384.045 273.312 \n\" style=\"fill:none;stroke:#000000;stroke-linecap:square;stroke-linejoin:miter;stroke-width:0.8;\"/>\n   </g>\n   <g id=\"patch_6\">\n    <path d=\"M 26.925 7.2 \nL 384.045 7.2 \n\" style=\"fill:none;stroke:#000000;stroke-linecap:square;stroke-linejoin:miter;stroke-width:0.8;\"/>\n   </g>\n  </g>\n </g>\n <defs>\n  <clipPath id=\"p8d7e98bed3\">\n   <rect height=\"266.112\" width=\"357.12\" x=\"26.925\" y=\"7.2\"/>\n  </clipPath>\n </defs>\n</svg>\n"
          },
          "metadata": {}
        }
      ]
    }
  ]
}